{
 "cells": [
  {
   "cell_type": "code",
   "execution_count": 59,
   "metadata": {},
   "outputs": [],
   "source": [
    "from glob import glob\n",
    "import pandas as pd\n",
    "import re"
   ]
  },
  {
   "cell_type": "code",
   "execution_count": 43,
   "metadata": {},
   "outputs": [],
   "source": [
    "results_corpus = glob(\"../data/results/gpt-j-corpus-results/*.txt\")"
   ]
  },
  {
   "cell_type": "code",
   "execution_count": 44,
   "metadata": {},
   "outputs": [],
   "source": [
    "corpus_validation = pd.read_csv(\"../data/corpus_valid.csv\", nrows=1340)"
   ]
  },
  {
   "cell_type": "code",
   "execution_count": 56,
   "metadata": {},
   "outputs": [],
   "source": [
    "def merge_paths_dataset(paths, dataset):\n",
    "\n",
    "    paths_with_ids = [(int(path.split(\"_\")[-1].split(\".\")[0]), path) for path in paths]\n",
    "    paths_with_ids.sort(key=lambda x: x[0])\n",
    "    values= []\n",
    "\n",
    "    for _, path in paths_with_ids:\n",
    "        with open(path, \"r\") as f:\n",
    "            lines = f.readlines()\n",
    "            values.append(lines[21])\n",
    "\n",
    "    dataset[\"prompt\"] = values\n",
    "    return dataset\n",
    "\n",
    "\n",
    "corpus_validation_merged = merge_paths_dataset(results_corpus, corpus_validation)"
   ]
  },
  {
   "cell_type": "code",
   "execution_count": 67,
   "metadata": {},
   "outputs": [],
   "source": [
    "def extract_prompt(x):\n",
    "    match = re.match(\".*<(.*)>\", x)\n",
    "\n",
    "    return match[1] if match else \"not-found\"\n",
    "\n",
    "\n",
    "\n",
    "corpus_validation_merged['extracted_label'] = corpus_validation_merged[\"prompt\"].apply(extract_prompt)"
   ]
  },
  {
   "cell_type": "code",
   "execution_count": 69,
   "metadata": {},
   "outputs": [
    {
     "data": {
      "text/plain": [
       "other            715\n",
       "common-ground    617\n",
       "not-found          6\n",
       "title              1\n",
       "sound              1\n",
       "Name: extracted_label, dtype: int64"
      ]
     },
     "execution_count": 69,
     "metadata": {},
     "output_type": "execute_result"
    }
   ],
   "source": [
    "corpus_validation_merged['extracted_label'].value_counts()"
   ]
  },
  {
   "cell_type": "code",
   "execution_count": 74,
   "metadata": {},
   "outputs": [],
   "source": [
    "corpus_validation_filtered = corpus_validation_merged[corpus_validation_merged['extracted_label'].isin([\"not-found\", \"sound\"]) == False]"
   ]
  },
  {
   "cell_type": "code",
   "execution_count": 75,
   "metadata": {},
   "outputs": [
    {
     "data": {
      "text/plain": [
       "other            715\n",
       "common-ground    617\n",
       "title              1\n",
       "Name: extracted_label, dtype: int64"
      ]
     },
     "execution_count": 75,
     "metadata": {},
     "output_type": "execute_result"
    }
   ],
   "source": [
    "corpus_validation_filtered[\"extracted_label\"].value_counts()"
   ]
  },
  {
   "cell_type": "code",
   "execution_count": 77,
   "metadata": {},
   "outputs": [
    {
     "name": "stdout",
     "output_type": "stream",
     "text": [
      "               precision    recall  f1-score   support\n",
      "\n",
      "     anecdote       0.00      0.00      0.00       221\n",
      "   assumption       0.00      0.00      0.00       899\n",
      "common-ground       0.03      0.53      0.06        36\n",
      "        other       0.01      0.77      0.03        13\n",
      "   statistics       0.00      0.00      0.00        32\n",
      "    testimony       0.00      0.00      0.00       109\n",
      "        title       1.00      0.04      0.08        23\n",
      "\n",
      "     accuracy                           0.02      1333\n",
      "    macro avg       0.15      0.19      0.02      1333\n",
      " weighted avg       0.02      0.02      0.00      1333\n",
      "\n"
     ]
    },
    {
     "name": "stderr",
     "output_type": "stream",
     "text": [
      "/home/georg/.cache/pypoetry/virtualenvs/ltp-project-JPCASTvD-py3.8/lib/python3.8/site-packages/sklearn/metrics/_classification.py:1327: UndefinedMetricWarning: Precision and F-score are ill-defined and being set to 0.0 in labels with no predicted samples. Use `zero_division` parameter to control this behavior.\n",
      "  _warn_prf(average, modifier, msg_start, len(result))\n",
      "/home/georg/.cache/pypoetry/virtualenvs/ltp-project-JPCASTvD-py3.8/lib/python3.8/site-packages/sklearn/metrics/_classification.py:1327: UndefinedMetricWarning: Precision and F-score are ill-defined and being set to 0.0 in labels with no predicted samples. Use `zero_division` parameter to control this behavior.\n",
      "  _warn_prf(average, modifier, msg_start, len(result))\n",
      "/home/georg/.cache/pypoetry/virtualenvs/ltp-project-JPCASTvD-py3.8/lib/python3.8/site-packages/sklearn/metrics/_classification.py:1327: UndefinedMetricWarning: Precision and F-score are ill-defined and being set to 0.0 in labels with no predicted samples. Use `zero_division` parameter to control this behavior.\n",
      "  _warn_prf(average, modifier, msg_start, len(result))\n"
     ]
    }
   ],
   "source": [
    "from sklearn.metrics import classification_report\n",
    "\n",
    "print(classification_report(corpus_validation_filtered[\"label\"], corpus_validation_filtered[\"extracted_label\"]))"
   ]
  },
  {
   "cell_type": "code",
   "execution_count": null,
   "metadata": {},
   "outputs": [],
   "source": []
  }
 ],
 "metadata": {
  "interpreter": {
   "hash": "ef0baf6d8be2d5e36d7cf9c55cfbad6339e5c1a472d19bff39d17af1061bd70a"
  },
  "kernelspec": {
   "display_name": "Python 3.8.10 ('ltp-project-JPCASTvD-py3.8')",
   "language": "python",
   "name": "python3"
  },
  "language_info": {
   "codemirror_mode": {
    "name": "ipython",
    "version": 3
   },
   "file_extension": ".py",
   "mimetype": "text/x-python",
   "name": "python",
   "nbconvert_exporter": "python",
   "pygments_lexer": "ipython3",
   "version": "3.8.10"
  },
  "orig_nbformat": 4
 },
 "nbformat": 4,
 "nbformat_minor": 2
}
