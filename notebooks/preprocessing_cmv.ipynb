{
 "cells": [
  {
   "cell_type": "code",
   "execution_count": 7,
   "metadata": {},
   "outputs": [],
   "source": [
    "import pandas as pd\n",
    "import math\n",
    "from sklearn.model_selection import train_test_split\n",
    "from statsmodels.stats import inter_rater as irr\n",
    "from sklearn import preprocessing\n",
    "import numpy as np"
   ]
  },
  {
   "cell_type": "code",
   "execution_count": 8,
   "metadata": {},
   "outputs": [
    {
     "data": {
      "text/html": [
       "<div>\n",
       "<style scoped>\n",
       "    .dataframe tbody tr th:only-of-type {\n",
       "        vertical-align: middle;\n",
       "    }\n",
       "\n",
       "    .dataframe tbody tr th {\n",
       "        vertical-align: top;\n",
       "    }\n",
       "\n",
       "    .dataframe thead th {\n",
       "        text-align: right;\n",
       "    }\n",
       "</style>\n",
       "<table border=\"1\" class=\"dataframe\">\n",
       "  <thead>\n",
       "    <tr style=\"text-align: right;\">\n",
       "      <th></th>\n",
       "      <th>thread_id</th>\n",
       "      <th>comment_id</th>\n",
       "      <th>sentence</th>\n",
       "      <th>a1</th>\n",
       "      <th>a2</th>\n",
       "      <th>a3</th>\n",
       "      <th>gold_label</th>\n",
       "    </tr>\n",
       "  </thead>\n",
       "  <tbody>\n",
       "    <tr>\n",
       "      <th>0</th>\n",
       "      <td>t3_71l9yj</td>\n",
       "      <td>dnbz2sl</td>\n",
       "      <td>I don't know anyone who buys Apple products to...</td>\n",
       "      <td>Anecdote</td>\n",
       "      <td>Assumption</td>\n",
       "      <td>Assumption</td>\n",
       "      <td>Assumption</td>\n",
       "    </tr>\n",
       "    <tr>\n",
       "      <th>1</th>\n",
       "      <td>t3_71l9yj</td>\n",
       "      <td>dnbz2sl</td>\n",
       "      <td>At work I use a Dell desktop that probably cos...</td>\n",
       "      <td>Anecdote</td>\n",
       "      <td>Assumption</td>\n",
       "      <td>Continue</td>\n",
       "      <td>NaN</td>\n",
       "    </tr>\n",
       "    <tr>\n",
       "      <th>2</th>\n",
       "      <td>t3_71l9yj</td>\n",
       "      <td>dnbz2sl</td>\n",
       "      <td>At home I have a $1,500 MacBook Air with a sol...</td>\n",
       "      <td>Anecdote</td>\n",
       "      <td>Continue</td>\n",
       "      <td>Continue</td>\n",
       "      <td>Continue</td>\n",
       "    </tr>\n",
       "    <tr>\n",
       "      <th>3</th>\n",
       "      <td>t3_71l9yj</td>\n",
       "      <td>dnbz2sl</td>\n",
       "      <td>My MacBook is *always* faster and more reliabl...</td>\n",
       "      <td>Anecdote</td>\n",
       "      <td>None</td>\n",
       "      <td>Assumption</td>\n",
       "      <td>NaN</td>\n",
       "    </tr>\n",
       "    <tr>\n",
       "      <th>4</th>\n",
       "      <td>t3_71l9yj</td>\n",
       "      <td>dnbz2sl</td>\n",
       "      <td>I think both product lines probably have their...</td>\n",
       "      <td>Assumption</td>\n",
       "      <td>None</td>\n",
       "      <td>None</td>\n",
       "      <td>None</td>\n",
       "    </tr>\n",
       "    <tr>\n",
       "      <th>...</th>\n",
       "      <td>...</td>\n",
       "      <td>...</td>\n",
       "      <td>...</td>\n",
       "      <td>...</td>\n",
       "      <td>...</td>\n",
       "      <td>...</td>\n",
       "      <td>...</td>\n",
       "    </tr>\n",
       "    <tr>\n",
       "      <th>6624</th>\n",
       "      <td>t3_5o7nm3</td>\n",
       "      <td>dchvjl7</td>\n",
       "      <td>Fuck those people,  shed them like a tear and ...</td>\n",
       "      <td>NaN</td>\n",
       "      <td>NaN</td>\n",
       "      <td>NaN</td>\n",
       "      <td>None</td>\n",
       "    </tr>\n",
       "    <tr>\n",
       "      <th>6625</th>\n",
       "      <td>t3_6ihcuk</td>\n",
       "      <td>dj6lpdi</td>\n",
       "      <td>Basically, the fallacy is claiming that becaus...</td>\n",
       "      <td>NaN</td>\n",
       "      <td>NaN</td>\n",
       "      <td>NaN</td>\n",
       "      <td>Assumption</td>\n",
       "    </tr>\n",
       "    <tr>\n",
       "      <th>6626</th>\n",
       "      <td>t3_6ihcuk</td>\n",
       "      <td>dj6lpdi</td>\n",
       "      <td>Classic examples are baldness and clouds.</td>\n",
       "      <td>NaN</td>\n",
       "      <td>NaN</td>\n",
       "      <td>NaN</td>\n",
       "      <td>None</td>\n",
       "    </tr>\n",
       "    <tr>\n",
       "      <th>6627</th>\n",
       "      <td>t3_6ihcuk</td>\n",
       "      <td>dj68d5b</td>\n",
       "      <td>The good thing about choosing \"viability\" as t...</td>\n",
       "      <td>NaN</td>\n",
       "      <td>NaN</td>\n",
       "      <td>NaN</td>\n",
       "      <td>Assumption</td>\n",
       "    </tr>\n",
       "    <tr>\n",
       "      <th>6628</th>\n",
       "      <td>t3_6ihcuk</td>\n",
       "      <td>dj68d5b</td>\n",
       "      <td>You don't get to use another person's body aga...</td>\n",
       "      <td>NaN</td>\n",
       "      <td>NaN</td>\n",
       "      <td>NaN</td>\n",
       "      <td>Assumption</td>\n",
       "    </tr>\n",
       "  </tbody>\n",
       "</table>\n",
       "<p>6629 rows × 7 columns</p>\n",
       "</div>"
      ],
      "text/plain": [
       "      thread_id comment_id                                           sentence  \\\n",
       "0     t3_71l9yj    dnbz2sl  I don't know anyone who buys Apple products to...   \n",
       "1     t3_71l9yj    dnbz2sl  At work I use a Dell desktop that probably cos...   \n",
       "2     t3_71l9yj    dnbz2sl  At home I have a $1,500 MacBook Air with a sol...   \n",
       "3     t3_71l9yj    dnbz2sl  My MacBook is *always* faster and more reliabl...   \n",
       "4     t3_71l9yj    dnbz2sl  I think both product lines probably have their...   \n",
       "...         ...        ...                                                ...   \n",
       "6624  t3_5o7nm3    dchvjl7  Fuck those people,  shed them like a tear and ...   \n",
       "6625  t3_6ihcuk    dj6lpdi  Basically, the fallacy is claiming that becaus...   \n",
       "6626  t3_6ihcuk    dj6lpdi          Classic examples are baldness and clouds.   \n",
       "6627  t3_6ihcuk    dj68d5b  The good thing about choosing \"viability\" as t...   \n",
       "6628  t3_6ihcuk    dj68d5b  You don't get to use another person's body aga...   \n",
       "\n",
       "              a1          a2          a3  gold_label  \n",
       "0       Anecdote  Assumption  Assumption  Assumption  \n",
       "1       Anecdote  Assumption    Continue         NaN  \n",
       "2       Anecdote    Continue    Continue    Continue  \n",
       "3       Anecdote        None  Assumption         NaN  \n",
       "4     Assumption        None        None        None  \n",
       "...          ...         ...         ...         ...  \n",
       "6624         NaN         NaN         NaN        None  \n",
       "6625         NaN         NaN         NaN  Assumption  \n",
       "6626         NaN         NaN         NaN        None  \n",
       "6627         NaN         NaN         NaN  Assumption  \n",
       "6628         NaN         NaN         NaN  Assumption  \n",
       "\n",
       "[6629 rows x 7 columns]"
      ]
     },
     "execution_count": 8,
     "metadata": {},
     "output_type": "execute_result"
    }
   ],
   "source": [
    "df_cmv=pd.read_csv(\"../data/cmv_original.csv\")\n",
    "df_cmv"
   ]
  },
  {
   "cell_type": "code",
   "execution_count": 9,
   "metadata": {},
   "outputs": [
    {
     "data": {
      "text/plain": [
       "980"
      ]
     },
     "execution_count": 9,
     "metadata": {},
     "output_type": "execute_result"
    }
   ],
   "source": [
    "df_cmv[\"comment_id\"].value_counts().shape[0]"
   ]
  },
  {
   "cell_type": "code",
   "execution_count": 10,
   "metadata": {},
   "outputs": [
    {
     "data": {
      "text/plain": [
       "6629"
      ]
     },
     "execution_count": 10,
     "metadata": {},
     "output_type": "execute_result"
    }
   ],
   "source": [
    "df_cmv.shape[0]"
   ]
  },
  {
   "cell_type": "code",
   "execution_count": 11,
   "metadata": {},
   "outputs": [
    {
     "data": {
      "text/plain": [
       "Assumption          2724\n",
       "Continue            1661\n",
       "None                1487\n",
       "Anecdote             323\n",
       "Statistics/Study      81\n",
       "Definition            65\n",
       "Other                 30\n",
       "Testimony             28\n",
       "Name: gold_label, dtype: int64"
      ]
     },
     "execution_count": 11,
     "metadata": {},
     "output_type": "execute_result"
    }
   ],
   "source": [
    "df_cmv[\"gold_label\"].value_counts()"
   ]
  },
  {
   "cell_type": "code",
   "execution_count": 12,
   "metadata": {},
   "outputs": [],
   "source": [
    "def update_items(df, row_name):\n",
    "    last_item = df[row_name].loc[0]\n",
    "    updated_items = []\n",
    "    for _, item in df[row_name].iteritems():\n",
    "        if item != \"Continue\":\n",
    "            last_item = item\n",
    "        updated_items.append(last_item)\n",
    "\n",
    "    df[f\"{row_name}_updated\"] = updated_items\n",
    "\n",
    "update_items(df_cmv, \"a1\")\n",
    "update_items(df_cmv, \"a2\")\n",
    "update_items(df_cmv, \"a3\")"
   ]
  },
  {
   "cell_type": "code",
   "execution_count": 13,
   "metadata": {},
   "outputs": [],
   "source": [
    "# update gold label\n",
    "df_cmv[\"gold_label_updated\"] = [float(\"nan\")] * len(df_cmv[\"gold_label\"])\n",
    "\n",
    "for i, row in df_cmv.iterrows():\n",
    "\n",
    "    a1, a2, a3 = str(row[\"a1_updated\"]), str(row[\"a2_updated\"]), str(row[\"a3_updated\"])\n",
    "    counts = {}\n",
    "\n",
    "    v_a1 = counts.get(a1, 0)\n",
    "    counts[a1] = v_a1 + 1\n",
    "    v_a2 = counts.get(a2, 0)\n",
    "    counts[a2] = v_a2 + 1\n",
    "    v_a3 = counts.get(a3, 0)\n",
    "    counts[a3] = v_a3 + 1\n",
    "\n",
    "    max_count = max(counts.values())\n",
    "    max_count_keys = [k for k, v in counts.items() if v == max_count]\n",
    "\n",
    "    if a1 == 'nan' and a2 == 'nan' and a3 == 'nan':\n",
    "        df_cmv.at[i, \"gold_label_updated\"] = row['gold_label'] if row['gold_label'] != \"Continue\" else float(\"nan\")\n",
    "    elif max_count == 1:\n",
    "        df_cmv.at[i, \"gold_label_updated\"] = float(\"nan\")\n",
    "    else:\n",
    "        df_cmv.at[i, \"gold_label_updated\"] = max_count_keys[0]"
   ]
  },
  {
   "cell_type": "code",
   "execution_count": 14,
   "metadata": {},
   "outputs": [
    {
     "data": {
      "text/html": [
       "<div>\n",
       "<style scoped>\n",
       "    .dataframe tbody tr th:only-of-type {\n",
       "        vertical-align: middle;\n",
       "    }\n",
       "\n",
       "    .dataframe tbody tr th {\n",
       "        vertical-align: top;\n",
       "    }\n",
       "\n",
       "    .dataframe thead th {\n",
       "        text-align: right;\n",
       "    }\n",
       "</style>\n",
       "<table border=\"1\" class=\"dataframe\">\n",
       "  <thead>\n",
       "    <tr style=\"text-align: right;\">\n",
       "      <th></th>\n",
       "      <th>a1_updated</th>\n",
       "      <th>a2_updated</th>\n",
       "      <th>a3_updated</th>\n",
       "      <th>gold_label</th>\n",
       "      <th>gold_label_updated</th>\n",
       "    </tr>\n",
       "  </thead>\n",
       "  <tbody>\n",
       "    <tr>\n",
       "      <th>6624</th>\n",
       "      <td>NaN</td>\n",
       "      <td>NaN</td>\n",
       "      <td>NaN</td>\n",
       "      <td>None</td>\n",
       "      <td>None</td>\n",
       "    </tr>\n",
       "    <tr>\n",
       "      <th>6625</th>\n",
       "      <td>NaN</td>\n",
       "      <td>NaN</td>\n",
       "      <td>NaN</td>\n",
       "      <td>Assumption</td>\n",
       "      <td>Assumption</td>\n",
       "    </tr>\n",
       "    <tr>\n",
       "      <th>6626</th>\n",
       "      <td>NaN</td>\n",
       "      <td>NaN</td>\n",
       "      <td>NaN</td>\n",
       "      <td>None</td>\n",
       "      <td>None</td>\n",
       "    </tr>\n",
       "    <tr>\n",
       "      <th>6627</th>\n",
       "      <td>NaN</td>\n",
       "      <td>NaN</td>\n",
       "      <td>NaN</td>\n",
       "      <td>Assumption</td>\n",
       "      <td>Assumption</td>\n",
       "    </tr>\n",
       "    <tr>\n",
       "      <th>6628</th>\n",
       "      <td>NaN</td>\n",
       "      <td>NaN</td>\n",
       "      <td>NaN</td>\n",
       "      <td>Assumption</td>\n",
       "      <td>Assumption</td>\n",
       "    </tr>\n",
       "  </tbody>\n",
       "</table>\n",
       "</div>"
      ],
      "text/plain": [
       "     a1_updated a2_updated a3_updated  gold_label gold_label_updated\n",
       "6624        NaN        NaN        NaN        None               None\n",
       "6625        NaN        NaN        NaN  Assumption         Assumption\n",
       "6626        NaN        NaN        NaN        None               None\n",
       "6627        NaN        NaN        NaN  Assumption         Assumption\n",
       "6628        NaN        NaN        NaN  Assumption         Assumption"
      ]
     },
     "execution_count": 14,
     "metadata": {},
     "output_type": "execute_result"
    }
   ],
   "source": [
    "df_cmv[[\"a1_updated\", \"a2_updated\", \"a3_updated\", \"gold_label\", \"gold_label_updated\"]].tail()"
   ]
  },
  {
   "cell_type": "code",
   "execution_count": 36,
   "metadata": {},
   "outputs": [
    {
     "data": {
      "text/plain": [
       "5330"
      ]
     },
     "execution_count": 36,
     "metadata": {},
     "output_type": "execute_result"
    }
   ],
   "source": [
    "# Check how rows there are where where we have no annotation data\n",
    "(df_cmv[[\"a1_updated\", \"a2_updated\", \"a3_updated\"]].isna().all(axis=1)).sum()"
   ]
  },
  {
   "cell_type": "markdown",
   "metadata": {},
   "source": [
    "Calculating inter annotator agreement only on samples that have annotator data"
   ]
  },
  {
   "cell_type": "code",
   "execution_count": 38,
   "metadata": {},
   "outputs": [
    {
     "data": {
      "text/plain": [
       "1299"
      ]
     },
     "execution_count": 38,
     "metadata": {},
     "output_type": "execute_result"
    }
   ],
   "source": [
    "fully_annotated_idx = (df_cmv[[\"a1_updated\", \"a2_updated\", \"a3_updated\"]].isna().all(axis=1) == False)\n",
    "\n",
    "fully_annotated_idx.sum()"
   ]
  },
  {
   "cell_type": "code",
   "execution_count": 40,
   "metadata": {},
   "outputs": [
    {
     "name": "stdout",
     "output_type": "stream",
     "text": [
      "['Anecdote' 'Assumption' 'Common ground' 'Continue' 'Definition' 'None'\n",
      " 'Other' 'Statistics/Study' 'Testimony']\n"
     ]
    },
    {
     "name": "stderr",
     "output_type": "stream",
     "text": [
      "/home/georg/.cache/pypoetry/virtualenvs/ltp-project-JPCASTvD-py3.8/lib/python3.8/site-packages/sklearn/preprocessing/_label.py:98: DataConversionWarning: A column-vector y was passed when a 1d array was expected. Please change the shape of y to (n_samples, ), for example using ravel().\n",
      "  y = column_or_1d(y, warn=True)\n",
      "/home/georg/.cache/pypoetry/virtualenvs/ltp-project-JPCASTvD-py3.8/lib/python3.8/site-packages/sklearn/preprocessing/_label.py:133: DataConversionWarning: A column-vector y was passed when a 1d array was expected. Please change the shape of y to (n_samples, ), for example using ravel().\n",
      "  y = column_or_1d(y, warn=True)\n",
      "/home/georg/.cache/pypoetry/virtualenvs/ltp-project-JPCASTvD-py3.8/lib/python3.8/site-packages/sklearn/preprocessing/_label.py:133: DataConversionWarning: A column-vector y was passed when a 1d array was expected. Please change the shape of y to (n_samples, ), for example using ravel().\n",
      "  y = column_or_1d(y, warn=True)\n",
      "/home/georg/.cache/pypoetry/virtualenvs/ltp-project-JPCASTvD-py3.8/lib/python3.8/site-packages/sklearn/preprocessing/_label.py:133: DataConversionWarning: A column-vector y was passed when a 1d array was expected. Please change the shape of y to (n_samples, ), for example using ravel().\n",
      "  y = column_or_1d(y, warn=True)\n"
     ]
    },
    {
     "data": {
      "text/plain": [
       "0.09191039437523739"
      ]
     },
     "execution_count": 40,
     "metadata": {},
     "output_type": "execute_result"
    }
   ],
   "source": [
    "\n",
    "le = preprocessing.LabelEncoder()\n",
    "\n",
    "df_cmv_no_nan = df_cmv[fully_annotated_idx]\n",
    "\n",
    "le.fit(df_cmv_no_nan[[\"a1\"]])\n",
    "\n",
    "print(le.classes_)\n",
    "\n",
    "a1 = le.transform(df_cmv_no_nan[[\"a1\"]])\n",
    "a2 = le.transform(df_cmv_no_nan[[\"a2\"]])\n",
    "a3 = le.transform(df_cmv_no_nan[[\"a3\"]])\n",
    "\n",
    "concat = np.vstack((a1, a2, a3)).T\n",
    "\n",
    "agg = irr.aggregate_raters(concat)\n",
    "\n",
    "irr.fleiss_kappa(agg[0], method='fleiss')"
   ]
  },
  {
   "cell_type": "code",
   "execution_count": 15,
   "metadata": {},
   "outputs": [],
   "source": [
    "def is_nan_or_none(x):\n",
    "    if isinstance(x, float):\n",
    "        return not math.isnan(x)\n",
    "    elif isinstance(x, str):\n",
    "        return x != \"None\"\n",
    "    else:\n",
    "        return bool(x)\n",
    "\n",
    "df_cmv_filtered = df_cmv[df_cmv[\"gold_label_updated\"].apply(is_nan_or_none)]"
   ]
  },
  {
   "cell_type": "code",
   "execution_count": 16,
   "metadata": {},
   "outputs": [
    {
     "data": {
      "text/plain": [
       "Assumption          2861\n",
       "Anecdote             370\n",
       "Statistics/Study      82\n",
       "Definition            66\n",
       "Other                 38\n",
       "Testimony             33\n",
       "Common ground          1\n",
       "Name: gold_label_updated, dtype: int64"
      ]
     },
     "execution_count": 16,
     "metadata": {},
     "output_type": "execute_result"
    }
   ],
   "source": [
    "df_cmv_filtered[\"gold_label_updated\"].value_counts()"
   ]
  },
  {
   "cell_type": "code",
   "execution_count": 9,
   "metadata": {},
   "outputs": [
    {
     "data": {
      "text/plain": [
       "Assumption          2724\n",
       "Continue            1661\n",
       "None                1487\n",
       "Anecdote             323\n",
       "Statistics/Study      81\n",
       "Definition            65\n",
       "Other                 30\n",
       "Testimony             28\n",
       "Name: gold_label, dtype: int64"
      ]
     },
     "execution_count": 9,
     "metadata": {},
     "output_type": "execute_result"
    }
   ],
   "source": [
    "df_cmv[\"gold_label\"].value_counts()"
   ]
  },
  {
   "cell_type": "code",
   "execution_count": 10,
   "metadata": {},
   "outputs": [],
   "source": [
    "df_cmv_distilled = df_cmv_filtered[['thread_id', 'comment_id', 'sentence', 'a1_updated', 'a2_updated', 'a3_updated', 'gold_label_updated']]\n",
    "df_cmv_distilled = df_cmv_distilled[((df_cmv_distilled[\"gold_label_updated\"] == \"Definition\") | (df_cmv_distilled[\"gold_label_updated\"] == \"Common ground\")) == False]\n",
    "df_cmv_distilled.columns = ['thread_id', 'comment_id', 'sentence', 'a1', 'a2', 'a3', 'label']\n",
    "df_cmv_distilled[\"label\"] = df_cmv_distilled[\"label\"].str.lower()\n",
    "df_cmv_distilled[\"label\"] = df_cmv_distilled[\"label\"].str.replace(\"statistics/study\", \"statistics\")"
   ]
  },
  {
   "cell_type": "code",
   "execution_count": 11,
   "metadata": {},
   "outputs": [
    {
     "data": {
      "text/plain": [
       "assumption    2861\n",
       "anecdote       370\n",
       "statistics      82\n",
       "other           38\n",
       "testimony       33\n",
       "Name: label, dtype: int64"
      ]
     },
     "execution_count": 11,
     "metadata": {},
     "output_type": "execute_result"
    }
   ],
   "source": [
    "df_cmv_distilled[\"label\"].value_counts()"
   ]
  },
  {
   "cell_type": "code",
   "execution_count": 12,
   "metadata": {},
   "outputs": [
    {
     "data": {
      "text/html": [
       "<div>\n",
       "<style scoped>\n",
       "    .dataframe tbody tr th:only-of-type {\n",
       "        vertical-align: middle;\n",
       "    }\n",
       "\n",
       "    .dataframe tbody tr th {\n",
       "        vertical-align: top;\n",
       "    }\n",
       "\n",
       "    .dataframe thead th {\n",
       "        text-align: right;\n",
       "    }\n",
       "</style>\n",
       "<table border=\"1\" class=\"dataframe\">\n",
       "  <thead>\n",
       "    <tr style=\"text-align: right;\">\n",
       "      <th></th>\n",
       "      <th>thread_id</th>\n",
       "      <th>comment_id</th>\n",
       "      <th>sentence</th>\n",
       "      <th>a1</th>\n",
       "      <th>a2</th>\n",
       "      <th>a3</th>\n",
       "      <th>label</th>\n",
       "    </tr>\n",
       "  </thead>\n",
       "  <tbody>\n",
       "    <tr>\n",
       "      <th>1293</th>\n",
       "      <td>t3_5w9qrn</td>\n",
       "      <td>de9iil1</td>\n",
       "      <td>Think about all the other things men and women...</td>\n",
       "      <td>Anecdote</td>\n",
       "      <td>Anecdote</td>\n",
       "      <td>Testimony</td>\n",
       "      <td>anecdote</td>\n",
       "    </tr>\n",
       "    <tr>\n",
       "      <th>1294</th>\n",
       "      <td>t3_5w9qrn</td>\n",
       "      <td>de9iil1</td>\n",
       "      <td>They used to go to different schools.</td>\n",
       "      <td>Anecdote</td>\n",
       "      <td>Anecdote</td>\n",
       "      <td>Testimony</td>\n",
       "      <td>anecdote</td>\n",
       "    </tr>\n",
       "    <tr>\n",
       "      <th>1298</th>\n",
       "      <td>t3_5w9qrn</td>\n",
       "      <td>de9iil1</td>\n",
       "      <td>That's how we'll one day see sex segregation i...</td>\n",
       "      <td>Assumption</td>\n",
       "      <td>Statistics/Study</td>\n",
       "      <td>Assumption</td>\n",
       "      <td>assumption</td>\n",
       "    </tr>\n",
       "    <tr>\n",
       "      <th>1299</th>\n",
       "      <td>t3_4x7vi8</td>\n",
       "      <td>d6dcbvj</td>\n",
       "      <td>The idea in general is whether there is an ent...</td>\n",
       "      <td>NaN</td>\n",
       "      <td>NaN</td>\n",
       "      <td>NaN</td>\n",
       "      <td>assumption</td>\n",
       "    </tr>\n",
       "    <tr>\n",
       "      <th>1300</th>\n",
       "      <td>t3_4x7vi8</td>\n",
       "      <td>d6dcbvj</td>\n",
       "      <td>The best arguments against free will (B. F. Sk...</td>\n",
       "      <td>NaN</td>\n",
       "      <td>NaN</td>\n",
       "      <td>NaN</td>\n",
       "      <td>assumption</td>\n",
       "    </tr>\n",
       "    <tr>\n",
       "      <th>...</th>\n",
       "      <td>...</td>\n",
       "      <td>...</td>\n",
       "      <td>...</td>\n",
       "      <td>...</td>\n",
       "      <td>...</td>\n",
       "      <td>...</td>\n",
       "      <td>...</td>\n",
       "    </tr>\n",
       "    <tr>\n",
       "      <th>6622</th>\n",
       "      <td>t3_5o7nm3</td>\n",
       "      <td>dchyd0p</td>\n",
       "      <td>Last I checked, destroying infrastructure isn'...</td>\n",
       "      <td>NaN</td>\n",
       "      <td>NaN</td>\n",
       "      <td>NaN</td>\n",
       "      <td>assumption</td>\n",
       "    </tr>\n",
       "    <tr>\n",
       "      <th>6623</th>\n",
       "      <td>t3_5o7nm3</td>\n",
       "      <td>dchvjl7</td>\n",
       "      <td>At that point you're going through a lot of an...</td>\n",
       "      <td>NaN</td>\n",
       "      <td>NaN</td>\n",
       "      <td>NaN</td>\n",
       "      <td>assumption</td>\n",
       "    </tr>\n",
       "    <tr>\n",
       "      <th>6625</th>\n",
       "      <td>t3_6ihcuk</td>\n",
       "      <td>dj6lpdi</td>\n",
       "      <td>Basically, the fallacy is claiming that becaus...</td>\n",
       "      <td>NaN</td>\n",
       "      <td>NaN</td>\n",
       "      <td>NaN</td>\n",
       "      <td>assumption</td>\n",
       "    </tr>\n",
       "    <tr>\n",
       "      <th>6627</th>\n",
       "      <td>t3_6ihcuk</td>\n",
       "      <td>dj68d5b</td>\n",
       "      <td>The good thing about choosing \"viability\" as t...</td>\n",
       "      <td>NaN</td>\n",
       "      <td>NaN</td>\n",
       "      <td>NaN</td>\n",
       "      <td>assumption</td>\n",
       "    </tr>\n",
       "    <tr>\n",
       "      <th>6628</th>\n",
       "      <td>t3_6ihcuk</td>\n",
       "      <td>dj68d5b</td>\n",
       "      <td>You don't get to use another person's body aga...</td>\n",
       "      <td>NaN</td>\n",
       "      <td>NaN</td>\n",
       "      <td>NaN</td>\n",
       "      <td>assumption</td>\n",
       "    </tr>\n",
       "  </tbody>\n",
       "</table>\n",
       "<p>2609 rows × 7 columns</p>\n",
       "</div>"
      ],
      "text/plain": [
       "      thread_id comment_id                                           sentence  \\\n",
       "1293  t3_5w9qrn    de9iil1  Think about all the other things men and women...   \n",
       "1294  t3_5w9qrn    de9iil1              They used to go to different schools.   \n",
       "1298  t3_5w9qrn    de9iil1  That's how we'll one day see sex segregation i...   \n",
       "1299  t3_4x7vi8    d6dcbvj  The idea in general is whether there is an ent...   \n",
       "1300  t3_4x7vi8    d6dcbvj  The best arguments against free will (B. F. Sk...   \n",
       "...         ...        ...                                                ...   \n",
       "6622  t3_5o7nm3    dchyd0p  Last I checked, destroying infrastructure isn'...   \n",
       "6623  t3_5o7nm3    dchvjl7  At that point you're going through a lot of an...   \n",
       "6625  t3_6ihcuk    dj6lpdi  Basically, the fallacy is claiming that becaus...   \n",
       "6627  t3_6ihcuk    dj68d5b  The good thing about choosing \"viability\" as t...   \n",
       "6628  t3_6ihcuk    dj68d5b  You don't get to use another person's body aga...   \n",
       "\n",
       "              a1                a2          a3       label  \n",
       "1293    Anecdote          Anecdote   Testimony    anecdote  \n",
       "1294    Anecdote          Anecdote   Testimony    anecdote  \n",
       "1298  Assumption  Statistics/Study  Assumption  assumption  \n",
       "1299         NaN               NaN         NaN  assumption  \n",
       "1300         NaN               NaN         NaN  assumption  \n",
       "...          ...               ...         ...         ...  \n",
       "6622         NaN               NaN         NaN  assumption  \n",
       "6623         NaN               NaN         NaN  assumption  \n",
       "6625         NaN               NaN         NaN  assumption  \n",
       "6627         NaN               NaN         NaN  assumption  \n",
       "6628         NaN               NaN         NaN  assumption  \n",
       "\n",
       "[2609 rows x 7 columns]"
      ]
     },
     "execution_count": 12,
     "metadata": {},
     "output_type": "execute_result"
    }
   ],
   "source": [
    "df_cmv_distilled.loc[1290:]"
   ]
  },
  {
   "cell_type": "code",
   "execution_count": 14,
   "metadata": {},
   "outputs": [],
   "source": [
    "train, test = train_test_split(df_cmv_distilled, test_size=0.4, random_state=42, stratify=df_cmv_distilled[\"label\"])"
   ]
  },
  {
   "cell_type": "code",
   "execution_count": 15,
   "metadata": {},
   "outputs": [
    {
     "data": {
      "text/plain": [
       "assumption    1716\n",
       "anecdote       222\n",
       "statistics      49\n",
       "other           23\n",
       "testimony       20\n",
       "Name: label, dtype: int64"
      ]
     },
     "execution_count": 15,
     "metadata": {},
     "output_type": "execute_result"
    }
   ],
   "source": [
    "train[\"label\"].value_counts()"
   ]
  },
  {
   "cell_type": "code",
   "execution_count": 16,
   "metadata": {},
   "outputs": [
    {
     "data": {
      "text/plain": [
       "assumption    1145\n",
       "anecdote       148\n",
       "statistics      33\n",
       "other           15\n",
       "testimony       13\n",
       "Name: label, dtype: int64"
      ]
     },
     "execution_count": 16,
     "metadata": {},
     "output_type": "execute_result"
    }
   ],
   "source": [
    "test[\"label\"].value_counts()"
   ]
  },
  {
   "cell_type": "code",
   "execution_count": 17,
   "metadata": {},
   "outputs": [],
   "source": [
    "train.to_csv(\"../data/cmv_train.csv\", index=False)\n",
    "test.to_csv(\"../data/cmv_test.csv\", index=False)"
   ]
  },
  {
   "cell_type": "code",
   "execution_count": 26,
   "metadata": {},
   "outputs": [
    {
     "data": {
      "text/plain": [
       "array([['Solution: anyone should use the bathroom they are most comfortable using.',\n",
       "        'anecdote'],\n",
       "       ['&gt', 'anecdote'],\n",
       "       ['Who chooses who is acceptable to live.', 'assumption'],\n",
       "       [\"Unisex toilets are not Men's rooms, so that'd be not an issue anymore.\",\n",
       "        'assumption'],\n",
       "       ['Not a Trump fan, but to borrow his phrase \"something is going on\"   \\n  \\nThe Obama Administration has always been really good at being matter of fact and calling it what it is, except when it comes to Islamic Extremism.',\n",
       "        'other'],\n",
       "       ['I am as well, but there\\'s a reason it\\'s called \"pro-choice.\"',\n",
       "        'other'],\n",
       "       ['There is no arguing with these people.', 'statistics'],\n",
       "       [\"It would (likely) become legally grey (if not illegal) if DNS services like Google, OpenDNS, ISP DNS, etc didn't recognize the domain after it was officially recognized by ICANN.\",\n",
       "        'statistics'],\n",
       "       ['The fact is, as there is overwhelming evidence, the toughest, most violent people will fill voids of power.',\n",
       "        'testimony'],\n",
       "       ['Imagine some kind of brain-computer interface (or a computer augmented brain) which would basically allow you to upload knowledge.',\n",
       "        'testimony']], dtype=object)"
      ]
     },
     "execution_count": 26,
     "metadata": {},
     "output_type": "execute_result"
    }
   ],
   "source": [
    "df_cmv_no_nan.groupby('label', group_keys=False).apply(lambda x: x.sample(min(len(x), 2)))[[\"sentence\", \"label\"]].values"
   ]
  },
  {
   "cell_type": "code",
   "execution_count": null,
   "metadata": {},
   "outputs": [],
   "source": []
  }
 ],
 "metadata": {
  "interpreter": {
   "hash": "ef0baf6d8be2d5e36d7cf9c55cfbad6339e5c1a472d19bff39d17af1061bd70a"
  },
  "kernelspec": {
   "display_name": "Python 3.8.10 ('ltp-project-JPCASTvD-py3.8')",
   "language": "python",
   "name": "python3"
  },
  "language_info": {
   "codemirror_mode": {
    "name": "ipython",
    "version": 3
   },
   "file_extension": ".py",
   "mimetype": "text/x-python",
   "name": "python",
   "nbconvert_exporter": "python",
   "pygments_lexer": "ipython3",
   "version": "3.8.10"
  },
  "orig_nbformat": 4
 },
 "nbformat": 4,
 "nbformat_minor": 2
}
