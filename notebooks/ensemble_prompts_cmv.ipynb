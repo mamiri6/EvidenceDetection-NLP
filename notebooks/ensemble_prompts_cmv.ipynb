{
 "cells": [
  {
   "cell_type": "code",
   "execution_count": 1,
   "metadata": {},
   "outputs": [],
   "source": [
    "from transformers import pipeline \n",
    "from datasets import load_dataset\n",
    "from sklearn.preprocessing import OneHotEncoder\n",
    "from sklearn.svm import SVC\n",
    "from sklearn.metrics import classification_report"
   ]
  },
  {
   "cell_type": "code",
   "execution_count": 2,
   "metadata": {},
   "outputs": [
    {
     "name": "stderr",
     "output_type": "stream",
     "text": [
      "2022-06-17 16:49:46.151982: I tensorflow/core/platform/cpu_feature_guard.cc:193] This TensorFlow binary is optimized with oneAPI Deep Neural Network Library (oneDNN) to use the following CPU instructions in performance-critical operations:  AVX2 FMA\n",
      "To enable them in other operations, rebuild TensorFlow with the appropriate compiler flags.\n"
     ]
    }
   ],
   "source": [
    "unmasker = pipeline(\"fill-mask\", model=\"distilbert-base-uncased\")"
   ]
  },
  {
   "cell_type": "code",
   "execution_count": 3,
   "metadata": {},
   "outputs": [
    {
     "name": "stderr",
     "output_type": "stream",
     "text": [
      "Using custom data configuration default-6e70f294c7d5c8fc\n"
     ]
    },
    {
     "name": "stdout",
     "output_type": "stream",
     "text": [
      "Downloading and preparing dataset csv/default to /home/georg/.cache/huggingface/datasets/csv/default-6e70f294c7d5c8fc/0.0.0/433e0ccc46f9880962cc2b12065189766fbb2bee57a221866138fb9203c83519...\n"
     ]
    },
    {
     "data": {
      "application/vnd.jupyter.widget-view+json": {
       "model_id": "43d36c2abef0497ab908803803fe4afc",
       "version_major": 2,
       "version_minor": 0
      },
      "text/plain": [
       "Downloading data files:   0%|          | 0/2 [00:00<?, ?it/s]"
      ]
     },
     "metadata": {},
     "output_type": "display_data"
    },
    {
     "data": {
      "application/vnd.jupyter.widget-view+json": {
       "model_id": "be31119302f64da9b8f05ca43531295f",
       "version_major": 2,
       "version_minor": 0
      },
      "text/plain": [
       "Extracting data files:   0%|          | 0/2 [00:00<?, ?it/s]"
      ]
     },
     "metadata": {},
     "output_type": "display_data"
    },
    {
     "name": "stdout",
     "output_type": "stream",
     "text": [
      "Dataset csv downloaded and prepared to /home/georg/.cache/huggingface/datasets/csv/default-6e70f294c7d5c8fc/0.0.0/433e0ccc46f9880962cc2b12065189766fbb2bee57a221866138fb9203c83519. Subsequent calls will reuse this data.\n"
     ]
    },
    {
     "data": {
      "application/vnd.jupyter.widget-view+json": {
       "model_id": "d4b1bb9698ea498cb4c0c15de8bef225",
       "version_major": 2,
       "version_minor": 0
      },
      "text/plain": [
       "  0%|          | 0/2 [00:00<?, ?it/s]"
      ]
     },
     "metadata": {},
     "output_type": "display_data"
    }
   ],
   "source": [
    "data = load_dataset(\"csv\", data_files={'train': [\"../data/cmv_train.csv\"], 'test': [\"../data/cmv_test.csv\"]})"
   ]
  },
  {
   "cell_type": "code",
   "execution_count": 4,
   "metadata": {},
   "outputs": [
    {
     "data": {
      "application/vnd.jupyter.widget-view+json": {
       "model_id": "94a523eb8dc4442c84562ad48eca0310",
       "version_major": 2,
       "version_minor": 0
      },
      "text/plain": [
       "  0%|          | 0/2030 [00:00<?, ?ex/s]"
      ]
     },
     "metadata": {},
     "output_type": "display_data"
    }
   ],
   "source": [
    "prompt_templates = [\"[INP]. This should be [MASK] knowlege\",\n",
    "                    \"[INP]. This sentence contains [MASK] proof and results.\",\n",
    "                    \"[INP]. This sentence contains a statement from a expert, authority, witness, group, organisation or similar? [MASK].\",\n",
    "                    \"[INP]. This is something I have [MASK] from personal experience.\",\n",
    "                    \"[INP]. That is a cool [MASK].\"]\n",
    "\n",
    "def apply_promts(row):\n",
    "    answers = []\n",
    "    for prompt_template in prompt_templates:\n",
    "        # replace [INP] with the input sentence\n",
    "        prompt_template = prompt_template.replace(\"[INP]\", row[\"sentence\"])\n",
    "        \n",
    "        answer = unmasker(prompt_template)[0]\n",
    "        answers.append((str(answer[\"score\"]), str(answer[\"token_str\"])))\n",
    "\n",
    "    return {\"answers\": answers}\n",
    "\n",
    "\n",
    "probed_data = data[\"train\"].map(apply_promts)"
   ]
  },
  {
   "cell_type": "code",
   "execution_count": 5,
   "metadata": {},
   "outputs": [],
   "source": [
    "\n",
    "answer_counts = {}\n",
    "\n",
    "for answer in probed_data[\"answers\"]:\n",
    "    for template, answer in zip(prompt_templates, answer):\n",
    "        if template not in answer_counts:\n",
    "            answer_counts[template] = {}\n",
    "        \n",
    "        if answer[1] not in answer_counts[template]:\n",
    "            answer_counts[template][answer[1]] = 0\n",
    "        \n",
    "        answer_counts[template][answer[1]] += 1\n"
   ]
  },
  {
   "cell_type": "code",
   "execution_count": 6,
   "metadata": {},
   "outputs": [],
   "source": [
    "def get_possible_answers(answer_counts, cutoff=10):\n",
    "    filtered_answers = {key: {} for key in answer_counts}\n",
    "\n",
    "    for prompt, answers in answer_counts.items():\n",
    "        for question, count in answers.items():\n",
    "            if count > cutoff:\n",
    "                filtered_answers[prompt][question] = count\n",
    "\n",
    "            else:\n",
    "                if \"_other\" not in filtered_answers[prompt]:\n",
    "                    filtered_answers[prompt][\"_other\"] = count\n",
    "                else:\n",
    "                    filtered_answers[prompt][\"_other\"] += count\n",
    "\n",
    "    return filtered_answers\n",
    "\n",
    "filtered_answer = get_possible_answers(answer_counts)"
   ]
  },
  {
   "cell_type": "code",
   "execution_count": 7,
   "metadata": {},
   "outputs": [
    {
     "data": {
      "text/plain": [
       "{'[INP]. This should be [MASK] knowlege': {'called': 1238,\n",
       "  'your': 47,\n",
       "  'my': 41,\n",
       "  'considered': 185,\n",
       "  'our': 23,\n",
       "  'a': 398,\n",
       "  '_other': 63,\n",
       "  'david': 15,\n",
       "  'termed': 20},\n",
       " '[INP]. This sentence contains [MASK] proof and results.': {'sufficient': 576,\n",
       "  'some': 28,\n",
       "  'simple': 364,\n",
       "  'explicit': 17,\n",
       "  'no': 552,\n",
       "  'excellent': 23,\n",
       "  '_other': 69,\n",
       "  'insufficient': 75,\n",
       "  'ample': 148,\n",
       "  'both': 112,\n",
       "  'detailed': 54,\n",
       "  'contradictory': 12},\n",
       " '[INP]. This sentence contains a statement from a expert, authority, witness, group, organisation or similar? [MASK].': {')': 937,\n",
       "  '.': 923,\n",
       "  'etc': 80,\n",
       "  ']': 15,\n",
       "  'person': 54,\n",
       "  '\"': 12,\n",
       "  '_other': 9},\n",
       " '[INP]. This is something I have [MASK] from personal experience.': {'learned': 2015,\n",
       "  'learnt': 15},\n",
       " '[INP]. That is a cool [MASK].': {'idea': 382,\n",
       "  'thing': 886,\n",
       "  'question': 409,\n",
       "  '_other': 156,\n",
       "  'rule': 61,\n",
       "  'climate': 13,\n",
       "  'book': 11,\n",
       "  'proposition': 11,\n",
       "  'statement': 40,\n",
       "  'word': 25,\n",
       "  'option': 19,\n",
       "  'assumption': 17}}"
      ]
     },
     "execution_count": 7,
     "metadata": {},
     "output_type": "execute_result"
    }
   ],
   "source": [
    "filtered_answer"
   ]
  },
  {
   "cell_type": "code",
   "execution_count": 8,
   "metadata": {},
   "outputs": [],
   "source": [
    "def get_feature_vector(answers, filtered_answer):\n",
    "    data  = []\n",
    "\n",
    "    for answer in answers:\n",
    "        sub_result = []\n",
    "        for prompt, answer in zip(prompt_templates, answer):\n",
    "            if answer[1] in filtered_answer[prompt]:\n",
    "                sub_result.append(answer[1])\n",
    "            else:\n",
    "                sub_result.append(\"_other\")\n",
    "\n",
    "        data.append(sub_result)\n",
    "\n",
    "    return data\n",
    "\n",
    "features = get_feature_vector(probed_data[\"answers\"], filtered_answer)\n"
   ]
  },
  {
   "cell_type": "code",
   "execution_count": 9,
   "metadata": {},
   "outputs": [],
   "source": [
    "encoder = OneHotEncoder()\n",
    "encoded_features = encoder.fit_transform(features)"
   ]
  },
  {
   "cell_type": "code",
   "execution_count": 10,
   "metadata": {},
   "outputs": [
    {
     "data": {
      "text/html": [
       "<style>#sk-container-id-1 {color: black;background-color: white;}#sk-container-id-1 pre{padding: 0;}#sk-container-id-1 div.sk-toggleable {background-color: white;}#sk-container-id-1 label.sk-toggleable__label {cursor: pointer;display: block;width: 100%;margin-bottom: 0;padding: 0.3em;box-sizing: border-box;text-align: center;}#sk-container-id-1 label.sk-toggleable__label-arrow:before {content: \"▸\";float: left;margin-right: 0.25em;color: #696969;}#sk-container-id-1 label.sk-toggleable__label-arrow:hover:before {color: black;}#sk-container-id-1 div.sk-estimator:hover label.sk-toggleable__label-arrow:before {color: black;}#sk-container-id-1 div.sk-toggleable__content {max-height: 0;max-width: 0;overflow: hidden;text-align: left;background-color: #f0f8ff;}#sk-container-id-1 div.sk-toggleable__content pre {margin: 0.2em;color: black;border-radius: 0.25em;background-color: #f0f8ff;}#sk-container-id-1 input.sk-toggleable__control:checked~div.sk-toggleable__content {max-height: 200px;max-width: 100%;overflow: auto;}#sk-container-id-1 input.sk-toggleable__control:checked~label.sk-toggleable__label-arrow:before {content: \"▾\";}#sk-container-id-1 div.sk-estimator input.sk-toggleable__control:checked~label.sk-toggleable__label {background-color: #d4ebff;}#sk-container-id-1 div.sk-label input.sk-toggleable__control:checked~label.sk-toggleable__label {background-color: #d4ebff;}#sk-container-id-1 input.sk-hidden--visually {border: 0;clip: rect(1px 1px 1px 1px);clip: rect(1px, 1px, 1px, 1px);height: 1px;margin: -1px;overflow: hidden;padding: 0;position: absolute;width: 1px;}#sk-container-id-1 div.sk-estimator {font-family: monospace;background-color: #f0f8ff;border: 1px dotted black;border-radius: 0.25em;box-sizing: border-box;margin-bottom: 0.5em;}#sk-container-id-1 div.sk-estimator:hover {background-color: #d4ebff;}#sk-container-id-1 div.sk-parallel-item::after {content: \"\";width: 100%;border-bottom: 1px solid gray;flex-grow: 1;}#sk-container-id-1 div.sk-label:hover label.sk-toggleable__label {background-color: #d4ebff;}#sk-container-id-1 div.sk-serial::before {content: \"\";position: absolute;border-left: 1px solid gray;box-sizing: border-box;top: 0;bottom: 0;left: 50%;z-index: 0;}#sk-container-id-1 div.sk-serial {display: flex;flex-direction: column;align-items: center;background-color: white;padding-right: 0.2em;padding-left: 0.2em;position: relative;}#sk-container-id-1 div.sk-item {position: relative;z-index: 1;}#sk-container-id-1 div.sk-parallel {display: flex;align-items: stretch;justify-content: center;background-color: white;position: relative;}#sk-container-id-1 div.sk-item::before, #sk-container-id-1 div.sk-parallel-item::before {content: \"\";position: absolute;border-left: 1px solid gray;box-sizing: border-box;top: 0;bottom: 0;left: 50%;z-index: -1;}#sk-container-id-1 div.sk-parallel-item {display: flex;flex-direction: column;z-index: 1;position: relative;background-color: white;}#sk-container-id-1 div.sk-parallel-item:first-child::after {align-self: flex-end;width: 50%;}#sk-container-id-1 div.sk-parallel-item:last-child::after {align-self: flex-start;width: 50%;}#sk-container-id-1 div.sk-parallel-item:only-child::after {width: 0;}#sk-container-id-1 div.sk-dashed-wrapped {border: 1px dashed gray;margin: 0 0.4em 0.5em 0.4em;box-sizing: border-box;padding-bottom: 0.4em;background-color: white;}#sk-container-id-1 div.sk-label label {font-family: monospace;font-weight: bold;display: inline-block;line-height: 1.2em;}#sk-container-id-1 div.sk-label-container {text-align: center;}#sk-container-id-1 div.sk-container {/* jupyter's `normalize.less` sets `[hidden] { display: none; }` but bootstrap.min.css set `[hidden] { display: none !important; }` so we also need the `!important` here to be able to override the default hidden behavior on the sphinx rendered scikit-learn.org. See: https://github.com/scikit-learn/scikit-learn/issues/21755 */display: inline-block !important;position: relative;}#sk-container-id-1 div.sk-text-repr-fallback {display: none;}</style><div id=\"sk-container-id-1\" class=\"sk-top-container\"><div class=\"sk-text-repr-fallback\"><pre>SVC()</pre><b>In a Jupyter environment, please rerun this cell to show the HTML representation or trust the notebook. <br />On GitHub, the HTML representation is unable to render, please try loading this page with nbviewer.org.</b></div><div class=\"sk-container\" hidden><div class=\"sk-item\"><div class=\"sk-estimator sk-toggleable\"><input class=\"sk-toggleable__control sk-hidden--visually\" id=\"sk-estimator-id-1\" type=\"checkbox\" checked><label for=\"sk-estimator-id-1\" class=\"sk-toggleable__label sk-toggleable__label-arrow\">SVC</label><div class=\"sk-toggleable__content\"><pre>SVC()</pre></div></div></div></div></div>"
      ],
      "text/plain": [
       "SVC()"
      ]
     },
     "execution_count": 10,
     "metadata": {},
     "output_type": "execute_result"
    }
   ],
   "source": [
    "rfc = SVC()\n",
    "rfc.fit(encoded_features, probed_data[\"label\"])"
   ]
  },
  {
   "cell_type": "code",
   "execution_count": 11,
   "metadata": {},
   "outputs": [
    {
     "data": {
      "application/vnd.jupyter.widget-view+json": {
       "model_id": "b0be2895f8ac498fbc314cbe1e89f6cd",
       "version_major": 2,
       "version_minor": 0
      },
      "text/plain": [
       "  0%|          | 0/1354 [00:00<?, ?ex/s]"
      ]
     },
     "metadata": {},
     "output_type": "display_data"
    }
   ],
   "source": [
    "validation = data[\"test\"].map(apply_promts)"
   ]
  },
  {
   "cell_type": "code",
   "execution_count": 12,
   "metadata": {},
   "outputs": [
    {
     "name": "stdout",
     "output_type": "stream",
     "text": [
      "              precision    recall  f1-score   support\n",
      "\n",
      "    anecdote       0.33      0.01      0.03       148\n",
      "  assumption       0.85      1.00      0.92      1145\n",
      "       other       0.00      0.00      0.00        15\n",
      "  statistics       0.67      0.06      0.11        33\n",
      "   testimony       0.00      0.00      0.00        13\n",
      "\n",
      "    accuracy                           0.85      1354\n",
      "   macro avg       0.37      0.21      0.21      1354\n",
      "weighted avg       0.77      0.85      0.78      1354\n",
      "\n"
     ]
    },
    {
     "name": "stderr",
     "output_type": "stream",
     "text": [
      "/home/georg/.cache/pypoetry/virtualenvs/ltp-project-JPCASTvD-py3.8/lib/python3.8/site-packages/sklearn/metrics/_classification.py:1327: UndefinedMetricWarning: Precision and F-score are ill-defined and being set to 0.0 in labels with no predicted samples. Use `zero_division` parameter to control this behavior.\n",
      "  _warn_prf(average, modifier, msg_start, len(result))\n",
      "/home/georg/.cache/pypoetry/virtualenvs/ltp-project-JPCASTvD-py3.8/lib/python3.8/site-packages/sklearn/metrics/_classification.py:1327: UndefinedMetricWarning: Precision and F-score are ill-defined and being set to 0.0 in labels with no predicted samples. Use `zero_division` parameter to control this behavior.\n",
      "  _warn_prf(average, modifier, msg_start, len(result))\n",
      "/home/georg/.cache/pypoetry/virtualenvs/ltp-project-JPCASTvD-py3.8/lib/python3.8/site-packages/sklearn/metrics/_classification.py:1327: UndefinedMetricWarning: Precision and F-score are ill-defined and being set to 0.0 in labels with no predicted samples. Use `zero_division` parameter to control this behavior.\n",
      "  _warn_prf(average, modifier, msg_start, len(result))\n"
     ]
    }
   ],
   "source": [
    "validation_features = get_feature_vector(validation[\"answers\"], filtered_answer)\n",
    "validation_encoded_features = encoder.transform(validation_features)\n",
    "\n",
    "pred = rfc.predict(validation_encoded_features)\n",
    "\n",
    "print(classification_report(validation[\"label\"], pred))"
   ]
  },
  {
   "cell_type": "code",
   "execution_count": null,
   "metadata": {},
   "outputs": [],
   "source": []
  }
 ],
 "metadata": {
  "interpreter": {
   "hash": "ef0baf6d8be2d5e36d7cf9c55cfbad6339e5c1a472d19bff39d17af1061bd70a"
  },
  "kernelspec": {
   "display_name": "Python 3.8.10 ('ltp-project-JPCASTvD-py3.8')",
   "language": "python",
   "name": "python3"
  },
  "language_info": {
   "codemirror_mode": {
    "name": "ipython",
    "version": 3
   },
   "file_extension": ".py",
   "mimetype": "text/x-python",
   "name": "python",
   "nbconvert_exporter": "python",
   "pygments_lexer": "ipython3",
   "version": "3.8.10"
  },
  "orig_nbformat": 4
 },
 "nbformat": 4,
 "nbformat_minor": 2
}
