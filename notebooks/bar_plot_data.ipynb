{
 "cells": [
  {
   "cell_type": "code",
   "execution_count": null,
   "metadata": {},
   "outputs": [],
   "source": [
    "import pandas as pd\n",
    "import matplotlib.pyplot as plt\n",
    "import numpy as np\n",
    "\n",
    "corpus = {\"assumption\": [9049, 2861], \"anecdote\": [2430, 370], \"testimony\": [1064, 33], \"statistics\": [381, 82], \"common-ground\": [232, 0], \"other\": [157, 33]}\n",
    "\n",
    "# News corpus\n",
    "# assumption       9049\n",
    "# anecdote         2430\n",
    "# testimony        1064\n",
    "# statistics        381\n",
    "# common-ground     232\n",
    "# other             157\n",
    "\n",
    "# CMV data\n",
    "# assumption    2861\n",
    "# anecdote       370\n",
    "# statistics      82\n",
    "# other           38\n",
    "# common-ground    0 \n",
    "# testimony       33"
   ]
  },
  {
   "cell_type": "code",
   "execution_count": null,
   "metadata": {},
   "outputs": [],
   "source": [
    "df = pd.DataFrame(corpus, index=[\"news corpus\", \"cmv\"])"
   ]
  },
  {
   "cell_type": "code",
   "execution_count": null,
   "metadata": {},
   "outputs": [],
   "source": [
    "df"
   ]
  },
  {
   "cell_type": "code",
   "execution_count": null,
   "metadata": {},
   "outputs": [],
   "source": [
    "df_norm = df.apply(lambda x : x / df.sum(axis=1) *100, axis=0) "
   ]
  },
  {
   "cell_type": "code",
   "execution_count": null,
   "metadata": {},
   "outputs": [],
   "source": [
    "df_norm.iloc[0].values"
   ]
  },
  {
   "cell_type": "code",
   "execution_count": null,
   "metadata": {},
   "outputs": [],
   "source": [
    "fig, ax = plt.subplots()\n",
    "\n",
    "x = np.arange(len(df_norm.columns))  # the label locations\n",
    "width = 0.35  # the width of the bars\n",
    "\n",
    "rects1 = ax.bar(x - width/2, df_norm.iloc[0].values, width, label='News corpus')\n",
    "rects2 = ax.bar(x + width/2, df_norm.iloc[1].values, width, label='CMV')\n",
    "\n",
    "ax.set_ylabel('Percentage of dataset')\n",
    "ax.set_title('Distribution of labels in the News corpus and CMV datasets')\n",
    "ax.set_xticks(x, df_norm.columns, rotation=20)\n",
    "\n",
    "ax.legend()\n",
    "\n",
    "plt.savefig(\"class_distribution.png\")"
   ]
  },
  {
   "cell_type": "code",
   "execution_count": null,
   "metadata": {},
   "outputs": [],
   "source": []
  }
 ],
 "metadata": {
  "kernelspec": {
   "display_name": "Python 3.8.10 ('ltp-project-JPCASTvD-py3.8')",
   "language": "python",
   "name": "python3"
  },
  "language_info": {
   "codemirror_mode": {
    "name": "ipython",
    "version": 3
   },
   "file_extension": ".py",
   "mimetype": "text/x-python",
   "name": "python",
   "nbconvert_exporter": "python",
   "pygments_lexer": "ipython3",
   "version": "3.8.10"
  },
  "orig_nbformat": 4,
  "vscode": {
   "interpreter": {
    "hash": "ef0baf6d8be2d5e36d7cf9c55cfbad6339e5c1a472d19bff39d17af1061bd70a"
   }
  }
 },
 "nbformat": 4,
 "nbformat_minor": 2
}
