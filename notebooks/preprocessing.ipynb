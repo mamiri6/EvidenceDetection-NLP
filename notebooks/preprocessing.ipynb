{
 "cells": [
  {
   "cell_type": "code",
   "execution_count": 1,
   "metadata": {},
   "outputs": [],
   "source": [
    "import pandas as pd\n",
    "from sklearn.model_selection import train_test_split\n",
    "import json"
   ]
  },
  {
   "cell_type": "code",
   "execution_count": 2,
   "metadata": {},
   "outputs": [],
   "source": [
    "df = pd.read_csv(\"../data/corpus.csv\")"
   ]
  },
  {
   "cell_type": "code",
   "execution_count": 3,
   "metadata": {},
   "outputs": [],
   "source": [
    "subset_df = df[[\"article_segments\", \"title\", \"article_id\"]]"
   ]
  },
  {
   "cell_type": "code",
   "execution_count": 4,
   "metadata": {},
   "outputs": [],
   "source": [
    "result = []\n",
    "for _, row in subset_df.iterrows():\n",
    "\n",
    "    row_obj = json.loads(row[\"article_segments\"])\n",
    "\n",
    "    for paragraph in row_obj[\"paragraphs\"]:\n",
    "        for sentence in paragraph:\n",
    "            result.append((row[\"article_id\"], row[\"title\"], sentence[\"text\"], sentence[\"label\"]))"
   ]
  },
  {
   "cell_type": "code",
   "execution_count": 5,
   "metadata": {},
   "outputs": [
    {
     "data": {
      "text/html": [
       "<div>\n",
       "<style scoped>\n",
       "    .dataframe tbody tr th:only-of-type {\n",
       "        vertical-align: middle;\n",
       "    }\n",
       "\n",
       "    .dataframe tbody tr th {\n",
       "        vertical-align: top;\n",
       "    }\n",
       "\n",
       "    .dataframe thead th {\n",
       "        text-align: right;\n",
       "    }\n",
       "</style>\n",
       "<table border=\"1\" class=\"dataframe\">\n",
       "  <thead>\n",
       "    <tr style=\"text-align: right;\">\n",
       "      <th></th>\n",
       "      <th>article_id</th>\n",
       "      <th>title</th>\n",
       "      <th>sentence</th>\n",
       "      <th>label</th>\n",
       "    </tr>\n",
       "  </thead>\n",
       "  <tbody>\n",
       "    <tr>\n",
       "      <th>0</th>\n",
       "      <td>1</td>\n",
       "      <td>2015: Beyond Obama, new Congress, we need a re...</td>\n",
       "      <td>2015: Beyond Obama, new Congress, we need a re...</td>\n",
       "      <td>title</td>\n",
       "    </tr>\n",
       "    <tr>\n",
       "      <th>1</th>\n",
       "      <td>1</td>\n",
       "      <td>2015: Beyond Obama, new Congress, we need a re...</td>\n",
       "      <td>In the film, \"Girl Interrupted,\" Winona Ryder ...</td>\n",
       "      <td>anecdote</td>\n",
       "    </tr>\n",
       "    <tr>\n",
       "      <th>2</th>\n",
       "      <td>1</td>\n",
       "      <td>2015: Beyond Obama, new Congress, we need a re...</td>\n",
       "      <td>.</td>\n",
       "      <td>no-unit</td>\n",
       "    </tr>\n",
       "    <tr>\n",
       "      <th>3</th>\n",
       "      <td>1</td>\n",
       "      <td>2015: Beyond Obama, new Congress, we need a re...</td>\n",
       "      <td>The year is 1967</td>\n",
       "      <td>anecdote</td>\n",
       "    </tr>\n",
       "    <tr>\n",
       "      <th>4</th>\n",
       "      <td>1</td>\n",
       "      <td>2015: Beyond Obama, new Congress, we need a re...</td>\n",
       "      <td>and</td>\n",
       "      <td>no-unit</td>\n",
       "    </tr>\n",
       "    <tr>\n",
       "      <th>...</th>\n",
       "      <td>...</td>\n",
       "      <td>...</td>\n",
       "      <td>...</td>\n",
       "      <td>...</td>\n",
       "    </tr>\n",
       "    <tr>\n",
       "      <th>28767</th>\n",
       "      <td>300</td>\n",
       "      <td>Zero suicides is an admirable aim but it requi...</td>\n",
       "      <td>.</td>\n",
       "      <td>no-unit</td>\n",
       "    </tr>\n",
       "    <tr>\n",
       "      <th>28768</th>\n",
       "      <td>300</td>\n",
       "      <td>Zero suicides is an admirable aim but it requi...</td>\n",
       "      <td>Therapy isn't just about lying on a couch whil...</td>\n",
       "      <td>assumption</td>\n",
       "    </tr>\n",
       "    <tr>\n",
       "      <th>28769</th>\n",
       "      <td>300</td>\n",
       "      <td>Zero suicides is an admirable aim but it requi...</td>\n",
       "      <td>.</td>\n",
       "      <td>no-unit</td>\n",
       "    </tr>\n",
       "    <tr>\n",
       "      <th>28770</th>\n",
       "      <td>300</td>\n",
       "      <td>Zero suicides is an admirable aim but it requi...</td>\n",
       "      <td>It's about feeling comfortable enough to say y...</td>\n",
       "      <td>assumption</td>\n",
       "    </tr>\n",
       "    <tr>\n",
       "      <th>28771</th>\n",
       "      <td>300</td>\n",
       "      <td>Zero suicides is an admirable aim but it requi...</td>\n",
       "      <td>.</td>\n",
       "      <td>no-unit</td>\n",
       "    </tr>\n",
       "  </tbody>\n",
       "</table>\n",
       "<p>28772 rows × 4 columns</p>\n",
       "</div>"
      ],
      "text/plain": [
       "       article_id                                              title  \\\n",
       "0               1  2015: Beyond Obama, new Congress, we need a re...   \n",
       "1               1  2015: Beyond Obama, new Congress, we need a re...   \n",
       "2               1  2015: Beyond Obama, new Congress, we need a re...   \n",
       "3               1  2015: Beyond Obama, new Congress, we need a re...   \n",
       "4               1  2015: Beyond Obama, new Congress, we need a re...   \n",
       "...           ...                                                ...   \n",
       "28767         300  Zero suicides is an admirable aim but it requi...   \n",
       "28768         300  Zero suicides is an admirable aim but it requi...   \n",
       "28769         300  Zero suicides is an admirable aim but it requi...   \n",
       "28770         300  Zero suicides is an admirable aim but it requi...   \n",
       "28771         300  Zero suicides is an admirable aim but it requi...   \n",
       "\n",
       "                                                sentence       label  \n",
       "0      2015: Beyond Obama, new Congress, we need a re...       title  \n",
       "1      In the film, \"Girl Interrupted,\" Winona Ryder ...    anecdote  \n",
       "2                                                      .     no-unit  \n",
       "3                                       The year is 1967    anecdote  \n",
       "4                                                    and     no-unit  \n",
       "...                                                  ...         ...  \n",
       "28767                                                  .     no-unit  \n",
       "28768  Therapy isn't just about lying on a couch whil...  assumption  \n",
       "28769                                                  .     no-unit  \n",
       "28770  It's about feeling comfortable enough to say y...  assumption  \n",
       "28771                                                  .     no-unit  \n",
       "\n",
       "[28772 rows x 4 columns]"
      ]
     },
     "execution_count": 5,
     "metadata": {},
     "output_type": "execute_result"
    }
   ],
   "source": [
    "final_df = pd.DataFrame(result, columns=[\"article_id\", \"title\", \"sentence\", \"label\"])\n",
    "final_df"
   ]
  },
  {
   "cell_type": "code",
   "execution_count": 6,
   "metadata": {},
   "outputs": [
    {
     "data": {
      "text/plain": [
       "no-unit          15193\n",
       "assumption        9049\n",
       "anecdote          2430\n",
       "testimony         1064\n",
       "statistics         381\n",
       "title              266\n",
       "common-ground      232\n",
       "other              157\n",
       "Name: label, dtype: int64"
      ]
     },
     "execution_count": 6,
     "metadata": {},
     "output_type": "execute_result"
    }
   ],
   "source": [
    "final_df[\"label\"].value_counts()"
   ]
  },
  {
   "cell_type": "code",
   "execution_count": 17,
   "metadata": {},
   "outputs": [
    {
     "data": {
      "text/plain": [
       "<AxesSubplot:>"
      ]
     },
     "execution_count": 17,
     "metadata": {},
     "output_type": "execute_result"
    },
    {
     "data": {
      "image/png": "[encoded data removed]",
      "text/plain": [
       "<Figure size 432x288 with 1 Axes>"
      ]
     },
     "metadata": {
      "needs_background": "light"
     },
     "output_type": "display_data"
    }
   ],
   "source": [
    "final_df[\"label\"].value_counts().plot.bar()"
   ]
  },
  {
   "cell_type": "code",
   "execution_count": 8,
   "metadata": {},
   "outputs": [
    {
     "data": {
      "text/plain": [
       "assumption       9049\n",
       "anecdote         2430\n",
       "testimony        1064\n",
       "statistics        381\n",
       "title             266\n",
       "common-ground     232\n",
       "other             157\n",
       "Name: label, dtype: int64"
      ]
     },
     "execution_count": 8,
     "metadata": {},
     "output_type": "execute_result"
    }
   ],
   "source": [
    "filtered_df = final_df[final_df[\"label\"] != \"no-unit\"]\n",
    "filtered_df['label'].value_counts()"
   ]
  },
  {
   "cell_type": "code",
   "execution_count": 19,
   "metadata": {},
   "outputs": [
    {
     "data": {
      "text/plain": [
       "<AxesSubplot:>"
      ]
     },
     "execution_count": 19,
     "metadata": {},
     "output_type": "execute_result"
    },
    {
     "data": {
      "image/png": "[encoded data removed]",
      "text/plain": [
       "<Figure size 432x288 with 1 Axes>"
      ]
     },
     "metadata": {
      "needs_background": "light"
     },
     "output_type": "display_data"
    }
   ],
   "source": [
    "filtered_df[\"label\"].value_counts().plot.bar()"
   ]
  },
  {
   "cell_type": "code",
   "execution_count": 20,
   "metadata": {},
   "outputs": [],
   "source": [
    "filtered_df.to_csv(\"../data/corpus_filtered.csv\", index=False)"
   ]
  },
  {
   "cell_type": "code",
   "execution_count": 37,
   "metadata": {},
   "outputs": [],
   "source": [
    "train, rest = train_test_split(filtered_df, test_size=0.3, random_state=313)\n",
    "valid, test = train_test_split(rest, test_size=1/3, random_state=313)"
   ]
  },
  {
   "cell_type": "code",
   "execution_count": 43,
   "metadata": {},
   "outputs": [
    {
     "name": "stdout",
     "output_type": "stream",
     "text": [
      "Total: 13579\n",
      "Train: 9505, 69.99779070623757%\n",
      "Valid: 2716, 20.001472862508287%\n",
      "Test: 1358, 10.000736431254143%\n"
     ]
    }
   ],
   "source": [
    "total_n = filtered_df.shape[0]\n",
    "train_n = train.shape[0]\n",
    "valid_n = valid.shape[0]\n",
    "test_n = test.shape[0]\n",
    "\n",
    "print(\"Total:\", total_n)\n",
    "print(f\"Train: {train_n}, {train_n/total_n*100}%\")\n",
    "print(f\"Valid: {valid_n}, {valid_n/total_n*100}%\")\n",
    "print(f\"Test: {test_n}, {test_n/total_n*100}%\")"
   ]
  },
  {
   "cell_type": "code",
   "execution_count": 40,
   "metadata": {},
   "outputs": [],
   "source": [
    "train.to_csv(\"../data/corpus_train.csv\", index=False)\n",
    "valid.to_csv(\"../data/corpus_valid.csv\", index=False)\n",
    "test.to_csv(\"../data/corpus_test.csv\", index=False)"
   ]
  },
  {
   "cell_type": "code",
   "execution_count": null,
   "metadata": {},
   "outputs": [],
   "source": []
  }
 ],
 "metadata": {
  "interpreter": {
   "hash": "ef0baf6d8be2d5e36d7cf9c55cfbad6339e5c1a472d19bff39d17af1061bd70a"
  },
  "kernelspec": {
   "display_name": "Python 3.8.10 ('ltp-project-JPCASTvD-py3.8')",
   "language": "python",
   "name": "python3"
  },
  "language_info": {
   "codemirror_mode": {
    "name": "ipython",
    "version": 3
   },
   "file_extension": ".py",
   "mimetype": "text/x-python",
   "name": "python",
   "nbconvert_exporter": "python",
   "pygments_lexer": "ipython3",
   "version": "3.8.10"
  },
  "orig_nbformat": 4
 },
 "nbformat": 4,
 "nbformat_minor": 2
}
