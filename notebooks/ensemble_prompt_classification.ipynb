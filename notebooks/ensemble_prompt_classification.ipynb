{
 "cells": [
  {
   "cell_type": "code",
   "execution_count": 33,
   "metadata": {},
   "outputs": [],
   "source": [
    "import pickle\n",
    "from sklearn.preprocessing import OneHotEncoder\n",
    "from sklearn.svm import SVC\n",
    "from sklearn.neighbors import KNeighborsClassifier\n",
    "from sklearn.metrics import classification_report\n",
    "from sklearn.neural_network import MLPClassifier\n"
   ]
  },
  {
   "cell_type": "code",
   "execution_count": 34,
   "metadata": {},
   "outputs": [],
   "source": [
    "with open(\"../data/probed/train_filtered.pkl\", \"rb\") as f:\n",
    "    X_train, y_train = pickle.load(f)\n",
    "\n",
    "with open(\"../data/probed/train_raw_answers.pkl\", \"rb\") as f:\n",
    "    X_train_raw = pickle.load(f)\n",
    "\n",
    "with open(\"../data/probed/validation_filtered.pkl\", \"rb\") as f:\n",
    "    X_validation, y_validation = pickle.load(f)\n",
    "\n",
    "with open(\"../data/probed/validation_raw_answers.pkl\", \"rb\") as f:\n",
    "    X_validation_raw = pickle.load(f)"
   ]
  },
  {
   "cell_type": "code",
   "execution_count": 35,
   "metadata": {},
   "outputs": [],
   "source": [
    "ohenc = OneHotEncoder()\n",
    "\n",
    "X_train_encoded = ohenc.fit_transform(X_train)\n",
    "X_validation_encoded = ohenc.transform(X_validation)"
   ]
  },
  {
   "cell_type": "code",
   "execution_count": 41,
   "metadata": {},
   "outputs": [
    {
     "name": "stdout",
     "output_type": "stream",
     "text": [
      "               precision    recall  f1-score   support\n",
      "\n",
      "     anecdote       0.50      0.17      0.25       458\n",
      "   assumption       0.72      0.96      0.82      1826\n",
      "common-ground       0.00      0.00      0.00        66\n",
      "        other       0.00      0.00      0.00        30\n",
      "   statistics       0.75      0.05      0.09        66\n",
      "    testimony       0.72      0.39      0.50       219\n",
      "        title       1.00      0.33      0.50        51\n",
      "\n",
      "     accuracy                           0.71      2716\n",
      "    macro avg       0.53      0.27      0.31      2716\n",
      " weighted avg       0.66      0.71      0.65      2716\n",
      "\n"
     ]
    }
   ],
   "source": [
    "classifier = SVC()\n",
    "classifier.fit(X_train_encoded, y_train)\n",
    "pred = classifier.predict(X_validation_encoded)\n",
    "print(classification_report(y_validation, pred, zero_division=0))"
   ]
  },
  {
   "cell_type": "code",
   "execution_count": 40,
   "metadata": {},
   "outputs": [
    {
     "name": "stdout",
     "output_type": "stream",
     "text": [
      "               precision    recall  f1-score   support\n",
      "\n",
      "     anecdote       0.32      0.28      0.29       458\n",
      "   assumption       0.73      0.86      0.79      1826\n",
      "common-ground       0.00      0.00      0.00        66\n",
      "        other       0.00      0.00      0.00        30\n",
      "   statistics       0.21      0.08      0.11        66\n",
      "    testimony       0.54      0.29      0.38       219\n",
      "        title       1.00      0.10      0.18        51\n",
      "\n",
      "     accuracy                           0.66      2716\n",
      "    macro avg       0.40      0.23      0.25      2716\n",
      " weighted avg       0.61      0.66      0.62      2716\n",
      "\n"
     ]
    }
   ],
   "source": [
    "classifier = KNeighborsClassifier()\n",
    "classifier.fit(X_train_encoded, y_train)\n",
    "pred = classifier.predict(X_validation_encoded)\n",
    "print(classification_report(y_validation, pred, zero_division=0))"
   ]
  },
  {
   "cell_type": "code",
   "execution_count": 45,
   "metadata": {},
   "outputs": [
    {
     "name": "stdout",
     "output_type": "stream",
     "text": [
      "               precision    recall  f1-score   support\n",
      "\n",
      "     anecdote       0.38      0.24      0.30       458\n",
      "   assumption       0.74      0.88      0.81      1826\n",
      "common-ground       0.00      0.00      0.00        66\n",
      "        other       0.33      0.10      0.15        30\n",
      "   statistics       0.37      0.21      0.27        66\n",
      "    testimony       0.56      0.42      0.48       219\n",
      "        title       0.58      0.29      0.39        51\n",
      "\n",
      "     accuracy                           0.68      2716\n",
      "    macro avg       0.42      0.31      0.34      2716\n",
      " weighted avg       0.63      0.68      0.65      2716\n",
      "\n"
     ]
    }
   ],
   "source": [
    "classifier = MLPClassifier(learning_rate='adaptive', \n",
    "                           max_iter=10000, hidden_layer_sizes=(100, 30))\n",
    "classifier.fit(X_train_encoded, y_train)\n",
    "pred = classifier.predict(X_validation_encoded)\n",
    "print(classification_report(y_validation, pred, zero_division=0))"
   ]
  }
 ],
 "metadata": {
  "interpreter": {
   "hash": "ef0baf6d8be2d5e36d7cf9c55cfbad6339e5c1a472d19bff39d17af1061bd70a"
  },
  "kernelspec": {
   "display_name": "Python 3.8.10 ('ltp-project-JPCASTvD-py3.8')",
   "language": "python",
   "name": "python3"
  },
  "language_info": {
   "codemirror_mode": {
    "name": "ipython",
    "version": 3
   },
   "file_extension": ".py",
   "mimetype": "text/x-python",
   "name": "python",
   "nbconvert_exporter": "python",
   "pygments_lexer": "ipython3",
   "version": "3.8.10"
  },
  "orig_nbformat": 4
 },
 "nbformat": 4,
 "nbformat_minor": 2
}
