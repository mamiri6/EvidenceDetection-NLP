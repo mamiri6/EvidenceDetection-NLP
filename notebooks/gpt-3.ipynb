{
 "cells": [
  {
   "cell_type": "code",
   "execution_count": null,
   "metadata": {},
   "outputs": [],
   "source": [
    "from datasets import load_dataset\n",
    "import pandas as pd\n",
    "from dotenv import load_dotenv\n",
    "import openai\n",
    "import os\n",
    "\n",
    "load_dotenv()"
   ]
  },
  {
   "cell_type": "code",
   "execution_count": null,
   "metadata": {},
   "outputs": [],
   "source": [
    "train = pd.read_csv(\"../data/corpus_train.csv\")"
   ]
  },
  {
   "cell_type": "code",
   "execution_count": null,
   "metadata": {},
   "outputs": [],
   "source": [
    "few_shots = train.sample(20)"
   ]
  },
  {
   "cell_type": "code",
   "execution_count": null,
   "metadata": {},
   "outputs": [],
   "source": [
    "few_shots[\"label\"].value_counts(\"label\")"
   ]
  },
  {
   "cell_type": "code",
   "execution_count": null,
   "metadata": {},
   "outputs": [],
   "source": [
    "all_data = load_dataset(\"csv\", data_files={'train': [\"../data/corpus_train.csv\"], 'validation': [\"../data/corpus_valid.csv\"], \"test\": [\"../data/corpus_test.csv\"]})"
   ]
  },
  {
   "cell_type": "code",
   "execution_count": null,
   "metadata": {},
   "outputs": [],
   "source": [
    "def apply_promt(inp):\n",
    "    prompt = \"\"\n",
    "\n",
    "    for _,row in few_shots.iterrows():\n",
    "        prompt += \"prompt: \" + row[\"sentence\"] + \"\\nlabel: \" + row[\"label\"] + \"<end>\\n\"\n",
    "\n",
    "    prompt += \"prompt: \" + inp[\"sentence\"] + \"\\nlabel:\"\n",
    "\n",
    "    return {\"prompt\": prompt}\n",
    "\n",
    "\n",
    "prompted_validation = all_data[\"validation\"].map(apply_promt)"
   ]
  },
  {
   "cell_type": "code",
   "execution_count": null,
   "metadata": {},
   "outputs": [],
   "source": [
    "import time\n",
    "\n",
    "key = os.getenv(\"OPENAI_API_KEY\")\n",
    "count = 50\n",
    "\n",
    "answers = []\n",
    "\n",
    "for i, prompt in enumerate(prompted_validation[:20][\"prompt\"]):\n",
    "\n",
    "  response = openai.Completion.create(\n",
    "    engine=\"text-davinci-001\",\n",
    "    prompt=prompt,\n",
    "    temperature=0,\n",
    "    max_tokens=6,\n",
    "    top_p=1,\n",
    "    frequency_penalty=0,\n",
    "    presence_penalty=0,\n",
    "    stop=[\"<end>\"]\n",
    "  )\n",
    "\n",
    "  print(f\"{i}/{len(prompted_validation)}\")\n",
    "\n",
    "  time.sleep(0.5)\n",
    "\n",
    "  answers.append(response.choices[0].text)\n",
    "\n",
    "\n",
    "answers = [x.strip() for x in answers] "
   ]
  },
  {
   "cell_type": "code",
   "execution_count": null,
   "metadata": {},
   "outputs": [],
   "source": [
    "from sklearn.metrics import classification_report\n",
    "\n",
    "print(classification_report(prompted_validation[\"label\"][:15], answers))"
   ]
  },
  {
   "cell_type": "code",
   "execution_count": null,
   "metadata": {},
   "outputs": [],
   "source": []
  }
 ],
 "metadata": {
  "interpreter": {
   "hash": "ef0baf6d8be2d5e36d7cf9c55cfbad6339e5c1a472d19bff39d17af1061bd70a"
  },
  "kernelspec": {
   "display_name": "Python 3.8.10 ('ltp-project-JPCASTvD-py3.8')",
   "language": "python",
   "name": "python3"
  },
  "language_info": {
   "codemirror_mode": {
    "name": "ipython",
    "version": 3
   },
   "file_extension": ".py",
   "mimetype": "text/x-python",
   "name": "python",
   "nbconvert_exporter": "python",
   "pygments_lexer": "ipython3",
   "version": "3.8.10"
  },
  "orig_nbformat": 4
 },
 "nbformat": 4,
 "nbformat_minor": 2
}
