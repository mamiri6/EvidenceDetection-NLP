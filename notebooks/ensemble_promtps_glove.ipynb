{
 "cells": [
  {
   "cell_type": "markdown",
   "metadata": {},
   "source": [
    "# Glove feature vectors\n",
    "\n",
    "instead of training a model on one hot encoded feature vectors, we can encode the answers of the model in a feature vector using the GloVe dataset.\n",
    "\n",
    "To start first load a glove model and store in the `../data/glove/...txt` file."
   ]
  },
  {
   "cell_type": "code",
   "execution_count": 10,
   "metadata": {},
   "outputs": [],
   "source": [
    "import pickle\n",
    "import numpy as np\n",
    "import pandas as pd\n",
    "import csv\n",
    "from tqdm import tqdm\n",
    "from sklearn.neural_network import MLPClassifier\n",
    "from sklearn.svm import SVC\n",
    "from sklearn.metrics import classification_report"
   ]
  },
  {
   "cell_type": "code",
   "execution_count": 2,
   "metadata": {},
   "outputs": [],
   "source": [
    "with open(\"../data/glove/glove.42B.300d.txt\", \"rb\") as f:\n",
    "    words = pd.read_table(f, sep=\" \", index_col=0, header=None, quoting=csv.QUOTE_NONE)"
   ]
  },
  {
   "cell_type": "code",
   "execution_count": 3,
   "metadata": {},
   "outputs": [],
   "source": [
    "with open(\"../data/probed/train_filtered.pkl\", \"rb\") as f:\n",
    "    _, y_train = pickle.load(f)\n",
    "\n",
    "with open(\"../data/probed/validation_filtered.pkl\", \"rb\") as f:\n",
    "    _, y_validation = pickle.load(f)\n",
    "\n",
    "with open(\"../data/probed/train_raw_answers.pkl\", \"rb\") as f:\n",
    "    train_raw_answers = pickle.load(f)\n",
    "\n",
    "with open(\"../data/probed/validation_raw_answers.pkl\", \"rb\") as f:\n",
    "    validation_raw_answers  = pickle.load(f)"
   ]
  },
  {
   "cell_type": "code",
   "execution_count": 4,
   "metadata": {},
   "outputs": [],
   "source": [
    "def vec(w):\n",
    "    return words.loc[w].values"
   ]
  },
  {
   "cell_type": "code",
   "execution_count": 5,
   "metadata": {},
   "outputs": [
    {
     "name": "stderr",
     "output_type": "stream",
     "text": [
      "100%|██████████| 9505/9505 [33:14<00:00,  4.77it/s]\n"
     ]
    }
   ],
   "source": [
    "def create_glove_vector(inp):\n",
    "    result = []\n",
    "    for row in tqdm(inp):\n",
    "        vector = [] \n",
    "        for answer in row:\n",
    "            answer_str = answer[1]\n",
    "            try:\n",
    "                vector.append(vec(answer_str))\n",
    "            except KeyError:\n",
    "                vector.append(np.zeros(300))\n",
    "\n",
    "        result.append(np.concatenate(vector))\n",
    "    return result\n",
    "\n",
    "data = create_glove_vector(train_raw_answers)"
   ]
  },
  {
   "cell_type": "code",
   "execution_count": 6,
   "metadata": {},
   "outputs": [],
   "source": [
    "data_vector = np.array(data)"
   ]
  },
  {
   "cell_type": "code",
   "execution_count": 7,
   "metadata": {},
   "outputs": [
    {
     "data": {
      "text/plain": [
       "MLPClassifier(hidden_layer_sizes=(100, 30), learning_rate='adaptive',\n",
       "              max_iter=10000)"
      ]
     },
     "execution_count": 7,
     "metadata": {},
     "output_type": "execute_result"
    }
   ],
   "source": [
    "classifier = MLPClassifier(learning_rate='adaptive', \n",
    "                           max_iter=10000, hidden_layer_sizes=(100, 30))\n",
    "classifier.fit(data_vector, y_train)"
   ]
  },
  {
   "cell_type": "code",
   "execution_count": 8,
   "metadata": {},
   "outputs": [
    {
     "name": "stderr",
     "output_type": "stream",
     "text": [
      "100%|██████████| 2716/2716 [09:13<00:00,  4.90it/s]\n"
     ]
    }
   ],
   "source": [
    "data_valid = create_glove_vector(validation_raw_answers)\n",
    "pred = classifier.predict(data_valid)"
   ]
  },
  {
   "cell_type": "code",
   "execution_count": 9,
   "metadata": {},
   "outputs": [
    {
     "name": "stdout",
     "output_type": "stream",
     "text": [
      "               precision    recall  f1-score   support\n",
      "\n",
      "     anecdote       0.40      0.29      0.34       458\n",
      "   assumption       0.75      0.89      0.81      1826\n",
      "common-ground       0.00      0.00      0.00        66\n",
      "        other       0.20      0.07      0.10        30\n",
      "   statistics       0.33      0.24      0.28        66\n",
      "    testimony       0.59      0.35      0.44       219\n",
      "        title       0.63      0.33      0.44        51\n",
      "\n",
      "     accuracy                           0.69      2716\n",
      "    macro avg       0.41      0.31      0.34      2716\n",
      " weighted avg       0.64      0.69      0.65      2716\n",
      "\n"
     ]
    }
   ],
   "source": [
    "print(classification_report(y_validation, pred, zero_division=0))"
   ]
  },
  {
   "cell_type": "code",
   "execution_count": 11,
   "metadata": {},
   "outputs": [
    {
     "name": "stdout",
     "output_type": "stream",
     "text": [
      "               precision    recall  f1-score   support\n",
      "\n",
      "     anecdote       0.49      0.14      0.22       458\n",
      "   assumption       0.71      0.96      0.82      1826\n",
      "common-ground       0.00      0.00      0.00        66\n",
      "        other       0.00      0.00      0.00        30\n",
      "   statistics       0.67      0.03      0.06        66\n",
      "    testimony       0.80      0.33      0.47       219\n",
      "        title       1.00      0.33      0.50        51\n",
      "\n",
      "     accuracy                           0.71      2716\n",
      "    macro avg       0.52      0.26      0.29      2716\n",
      " weighted avg       0.66      0.71      0.64      2716\n",
      "\n"
     ]
    }
   ],
   "source": [
    "classifier_svc = SVC()\n",
    "classifier_svc.fit(data_vector, y_train)\n",
    "pred = classifier_svc.predict(data_valid)\n",
    "print(classification_report(y_validation, pred, zero_division=0))"
   ]
  },
  {
   "cell_type": "code",
   "execution_count": null,
   "metadata": {},
   "outputs": [],
   "source": []
  }
 ],
 "metadata": {
  "interpreter": {
   "hash": "ef0baf6d8be2d5e36d7cf9c55cfbad6339e5c1a472d19bff39d17af1061bd70a"
  },
  "kernelspec": {
   "display_name": "Python 3.8.10 ('ltp-project-JPCASTvD-py3.8')",
   "language": "python",
   "name": "python3"
  },
  "language_info": {
   "codemirror_mode": {
    "name": "ipython",
    "version": 3
   },
   "file_extension": ".py",
   "mimetype": "text/x-python",
   "name": "python",
   "nbconvert_exporter": "python",
   "pygments_lexer": "ipython3",
   "version": "3.8.10"
  },
  "orig_nbformat": 4
 },
 "nbformat": 4,
 "nbformat_minor": 2
}
