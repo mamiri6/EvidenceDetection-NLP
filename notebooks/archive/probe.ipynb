{
 "cells": [
  {
   "cell_type": "code",
   "execution_count": 42,
   "metadata": {},
   "outputs": [],
   "source": [
    "from transformers import AutoTokenizer, AutoModelForMaskedLM\n",
    "from transformers import pipeline\n",
    "\n",
    "unmasker = pipeline('fill-mask', model='distilbert-base-uncased')\n"
   ]
  },
  {
   "cell_type": "code",
   "execution_count": 43,
   "metadata": {},
   "outputs": [],
   "source": [
    "import pandas as pd\n",
    "\n",
    "\n",
    "df_main = pd.read_pickle(\"../data/df_main.pkl\")"
   ]
  },
  {
   "cell_type": "code",
   "execution_count": 44,
   "metadata": {},
   "outputs": [
    {
     "data": {
      "text/html": [
       "<div>\n",
       "<style scoped>\n",
       "    .dataframe tbody tr th:only-of-type {\n",
       "        vertical-align: middle;\n",
       "    }\n",
       "\n",
       "    .dataframe tbody tr th {\n",
       "        vertical-align: top;\n",
       "    }\n",
       "\n",
       "    .dataframe thead th {\n",
       "        text-align: right;\n",
       "    }\n",
       "</style>\n",
       "<table border=\"1\" class=\"dataframe\">\n",
       "  <thead>\n",
       "    <tr style=\"text-align: right;\">\n",
       "      <th></th>\n",
       "      <th>text</th>\n",
       "      <th>labels</th>\n",
       "    </tr>\n",
       "  </thead>\n",
       "  <tbody>\n",
       "    <tr>\n",
       "      <th>11</th>\n",
       "      <td>the stock market is at record highs</td>\n",
       "      <td>statistics</td>\n",
       "    </tr>\n",
       "    <tr>\n",
       "      <th>19</th>\n",
       "      <td>Just 46 percent of American children now live ...</td>\n",
       "      <td>statistics</td>\n",
       "    </tr>\n",
       "    <tr>\n",
       "      <th>21</th>\n",
       "      <td>Five percent have no parents at home</td>\n",
       "      <td>statistics</td>\n",
       "    </tr>\n",
       "    <tr>\n",
       "      <th>26</th>\n",
       "      <td>when 73 percent of American children lived in ...</td>\n",
       "      <td>statistics</td>\n",
       "    </tr>\n",
       "    <tr>\n",
       "      <th>346</th>\n",
       "      <td>over 9,000 Afghan troops have died since 2013,...</td>\n",
       "      <td>statistics</td>\n",
       "    </tr>\n",
       "    <tr>\n",
       "      <th>...</th>\n",
       "      <td>...</td>\n",
       "      <td>...</td>\n",
       "    </tr>\n",
       "    <tr>\n",
       "      <th>28516</th>\n",
       "      <td>A record 40 percent of all households with chi...</td>\n",
       "      <td>statistics</td>\n",
       "    </tr>\n",
       "    <tr>\n",
       "      <th>28518</th>\n",
       "      <td>Seventy percent of women with children under t...</td>\n",
       "      <td>statistics</td>\n",
       "    </tr>\n",
       "    <tr>\n",
       "      <th>28520</th>\n",
       "      <td>And nearly 90 percent of women working full-ti...</td>\n",
       "      <td>statistics</td>\n",
       "    </tr>\n",
       "    <tr>\n",
       "      <th>28552</th>\n",
       "      <td>The Internet stars who interviewed Obama have ...</td>\n",
       "      <td>statistics</td>\n",
       "    </tr>\n",
       "    <tr>\n",
       "      <th>28670</th>\n",
       "      <td>Suicide is the biggest single killer of men ag...</td>\n",
       "      <td>statistics</td>\n",
       "    </tr>\n",
       "  </tbody>\n",
       "</table>\n",
       "<p>381 rows × 2 columns</p>\n",
       "</div>"
      ],
      "text/plain": [
       "                                                    text      labels\n",
       "11                   the stock market is at record highs  statistics\n",
       "19     Just 46 percent of American children now live ...  statistics\n",
       "21                  Five percent have no parents at home  statistics\n",
       "26     when 73 percent of American children lived in ...  statistics\n",
       "346    over 9,000 Afghan troops have died since 2013,...  statistics\n",
       "...                                                  ...         ...\n",
       "28516  A record 40 percent of all households with chi...  statistics\n",
       "28518  Seventy percent of women with children under t...  statistics\n",
       "28520  And nearly 90 percent of women working full-ti...  statistics\n",
       "28552  The Internet stars who interviewed Obama have ...  statistics\n",
       "28670  Suicide is the biggest single killer of men ag...  statistics\n",
       "\n",
       "[381 rows x 2 columns]"
      ]
     },
     "execution_count": 44,
     "metadata": {},
     "output_type": "execute_result"
    }
   ],
   "source": [
    "df_statistics = df_main[df_main[\"labels\"] == \"statistics\"]\n",
    "\n",
    "df_statistics"
   ]
  },
  {
   "cell_type": "code",
   "execution_count": 45,
   "metadata": {},
   "outputs": [],
   "source": [
    "def probe_template(text):\n",
    "    return f\"{text}. This text contains [MASK] statistics\""
   ]
  },
  {
   "cell_type": "code",
   "execution_count": 46,
   "metadata": {},
   "outputs": [
    {
     "name": "stderr",
     "output_type": "stream",
     "text": [
      "/tmp/ipykernel_3487/135083759.py:1: SettingWithCopyWarning: \n",
      "A value is trying to be set on a copy of a slice from a DataFrame.\n",
      "Try using .loc[row_indexer,col_indexer] = value instead\n",
      "\n",
      "See the caveats in the documentation: https://pandas.pydata.org/pandas-docs/stable/user_guide/indexing.html#returning-a-view-versus-a-copy\n",
      "  df_statistics[\"probe_template\"] = df_statistics[\"text\"].apply(probe_template)\n"
     ]
    }
   ],
   "source": [
    "df_statistics[\"probe_template\"] = df_statistics[\"text\"].apply(probe_template)"
   ]
  },
  {
   "cell_type": "code",
   "execution_count": 47,
   "metadata": {},
   "outputs": [
    {
     "data": {
      "text/plain": [
       "11       the stock market is at record highs. This text...\n",
       "19       Just 46 percent of American children now live ...\n",
       "21       Five percent have no parents at home. This tex...\n",
       "26       when 73 percent of American children lived in ...\n",
       "346      over 9,000 Afghan troops have died since 2013,...\n",
       "                               ...                        \n",
       "28516    A record 40 percent of all households with chi...\n",
       "28518    Seventy percent of women with children under t...\n",
       "28520    And nearly 90 percent of women working full-ti...\n",
       "28552    The Internet stars who interviewed Obama have ...\n",
       "28670    Suicide is the biggest single killer of men ag...\n",
       "Name: probe_template, Length: 381, dtype: object"
      ]
     },
     "execution_count": 47,
     "metadata": {},
     "output_type": "execute_result"
    }
   ],
   "source": [
    "df_statistics[\"probe_template\"]"
   ]
  },
  {
   "cell_type": "code",
   "execution_count": 48,
   "metadata": {},
   "outputs": [
    {
     "data": {
      "text/plain": [
       "[{'score': 0.06589377671480179,\n",
       "  'token': 4518,\n",
       "  'token_str': 'stock',\n",
       "  'sequence': 'the stock market is at record highs. this text contains stock statistics'},\n",
       " {'score': 0.05030452460050583,\n",
       "  'token': 3361,\n",
       "  'token_str': 'financial',\n",
       "  'sequence': 'the stock market is at record highs. this text contains financial statistics'},\n",
       " {'score': 0.03036639839410782,\n",
       "  'token': 5211,\n",
       "  'token_str': 'investment',\n",
       "  'sequence': 'the stock market is at record highs. this text contains investment statistics'},\n",
       " {'score': 0.02794070914387703,\n",
       "  'token': 6851,\n",
       "  'token_str': 'detailed',\n",
       "  'sequence': 'the stock market is at record highs. this text contains detailed statistics'},\n",
       " {'score': 0.024313677102327347,\n",
       "  'token': 3439,\n",
       "  'token_str': 'historical',\n",
       "  'sequence': 'the stock market is at record highs. this text contains historical statistics'}]"
      ]
     },
     "execution_count": 48,
     "metadata": {},
     "output_type": "execute_result"
    }
   ],
   "source": [
    "unmasker(df_statistics[\"probe_template\"].iloc[0])"
   ]
  },
  {
   "cell_type": "code",
   "execution_count": null,
   "metadata": {},
   "outputs": [],
   "source": []
  }
 ],
 "metadata": {
  "interpreter": {
   "hash": "ef0baf6d8be2d5e36d7cf9c55cfbad6339e5c1a472d19bff39d17af1061bd70a"
  },
  "kernelspec": {
   "display_name": "Python 3.8.10 ('ltp-project-JPCASTvD-py3.8')",
   "language": "python",
   "name": "python3"
  },
  "language_info": {
   "codemirror_mode": {
    "name": "ipython",
    "version": 3
   },
   "file_extension": ".py",
   "mimetype": "text/x-python",
   "name": "python",
   "nbconvert_exporter": "python",
   "pygments_lexer": "ipython3",
   "version": "3.8.10"
  },
  "orig_nbformat": 4
 },
 "nbformat": 4,
 "nbformat_minor": 2
}
