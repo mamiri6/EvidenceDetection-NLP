{
  "nbformat": 4,
  "nbformat_minor": 0,
  "metadata": {
    "colab": {
      "provenance": [],
      "collapsed_sections": [],
      "authorship_tag": "ABX9TyMFnZswo+dUwhqUrnQQT9bq",
      "include_colab_link": true
    },
    "kernelspec": {
      "name": "python3",
      "display_name": "Python 3"
    },
    "language_info": {
      "name": "python"
    }
  },
  "cells": [
    {
      "cell_type": "markdown",
      "metadata": {
        "id": "view-in-github",
        "colab_type": "text"
      },
      "source": [
        "<a href=\"https://colab.research.google.com/github/mamiri6/EvidenceDetection-NLP/blob/main/spark_sql.ipynb\" target=\"_parent\"><img src=\"https://colab.research.google.com/assets/colab-badge.svg\" alt=\"Open In Colab\"/></a>"
      ]
    },
    {
      "cell_type": "code",
      "source": [
        "!apt-get update\n",
        "!apt-get install openjdk-8-jdk-headless -qq > /dev/null\n",
        "!wget -q http://archive.apache.org/dist/spark/spark-2.3.1/spark-2.3.1-bin-hadoop2.7.tgz\n",
        "!tar xf spark-2.3.1-bin-hadoop2.7.tgz\n",
        "!pip install -q findspark"
      ],
      "metadata": {
        "colab": {
          "base_uri": "https://localhost:8080/"
        },
        "id": "AjXY23SIqFuS",
        "outputId": "5a6c589d-0726-47e6-a6f4-07a36a6a06c0"
      },
      "execution_count": 1,
      "outputs": [
        {
          "output_type": "stream",
          "name": "stdout",
          "text": [
            "\r0% [Working]\r            \rGet:1 http://security.ubuntu.com/ubuntu bionic-security InRelease [88.7 kB]\n",
            "\r0% [Connecting to archive.ubuntu.com (185.125.190.36)] [1 InRelease 14.2 kB/88.\r                                                                               \rGet:2 https://cloud.r-project.org/bin/linux/ubuntu bionic-cran40/ InRelease [3,626 B]\n",
            "\r0% [Connecting to archive.ubuntu.com (185.125.190.36)] [1 InRelease 20.0 kB/88.\r0% [Connecting to archive.ubuntu.com (185.125.190.36)] [1 InRelease 72.1 kB/88.\r0% [2 InRelease gpgv 3,626 B] [Connecting to archive.ubuntu.com (185.125.190.36\r0% [2 InRelease gpgv 3,626 B] [Connecting to archive.ubuntu.com (185.125.190.36\r                                                                               \rHit:3 http://ppa.launchpad.net/c2d4u.team/c2d4u4.0+/ubuntu bionic InRelease\n",
            "Hit:4 http://archive.ubuntu.com/ubuntu bionic InRelease\n",
            "Ign:5 https://developer.download.nvidia.com/compute/machine-learning/repos/ubuntu1804/x86_64  InRelease\n",
            "Get:6 https://developer.download.nvidia.com/compute/cuda/repos/ubuntu1804/x86_64  InRelease [1,581 B]\n",
            "Get:7 http://archive.ubuntu.com/ubuntu bionic-updates InRelease [88.7 kB]\n",
            "Hit:8 https://developer.download.nvidia.com/compute/machine-learning/repos/ubuntu1804/x86_64  Release\n",
            "Hit:9 http://ppa.launchpad.net/cran/libgit2/ubuntu bionic InRelease\n",
            "Hit:10 http://ppa.launchpad.net/deadsnakes/ppa/ubuntu bionic InRelease\n",
            "Get:11 http://archive.ubuntu.com/ubuntu bionic-backports InRelease [83.3 kB]\n",
            "Hit:12 http://ppa.launchpad.net/graphics-drivers/ppa/ubuntu bionic InRelease\n",
            "Get:13 http://security.ubuntu.com/ubuntu bionic-security/universe amd64 Packages [1,546 kB]\n",
            "Get:14 http://security.ubuntu.com/ubuntu bionic-security/main amd64 Packages [2,992 kB]\n",
            "Get:15 https://developer.download.nvidia.com/compute/cuda/repos/ubuntu1804/x86_64  Packages [950 kB]\n",
            "Get:17 http://archive.ubuntu.com/ubuntu bionic-updates/universe amd64 Packages [2,324 kB]\n",
            "Get:18 http://archive.ubuntu.com/ubuntu bionic-updates/main amd64 Packages [3,424 kB]\n",
            "Fetched 11.5 MB in 4s (3,004 kB/s)\n",
            "Reading package lists... Done\n"
          ]
        }
      ]
    },
    {
      "cell_type": "code",
      "execution_count": 2,
      "metadata": {
        "colab": {
          "base_uri": "https://localhost:8080/",
          "height": 221
        },
        "id": "ZD9LWPcTpk-4",
        "outputId": "898c0d3e-38ad-4724-9274-3f827bace97a"
      },
      "outputs": [
        {
          "output_type": "execute_result",
          "data": {
            "text/plain": [
              "<pyspark.sql.session.SparkSession at 0x7ff3646aba50>"
            ],
            "text/html": [
              "\n",
              "            <div>\n",
              "                <p><b>SparkSession - in-memory</b></p>\n",
              "                \n",
              "        <div>\n",
              "            <p><b>SparkContext</b></p>\n",
              "\n",
              "            <p><a href=\"http://bf588bf336ae:4040\">Spark UI</a></p>\n",
              "\n",
              "            <dl>\n",
              "              <dt>Version</dt>\n",
              "                <dd><code>v2.3.1</code></dd>\n",
              "              <dt>Master</dt>\n",
              "                <dd><code>local[*]</code></dd>\n",
              "              <dt>AppName</dt>\n",
              "                <dd><code>pyspark-shell</code></dd>\n",
              "            </dl>\n",
              "        </div>\n",
              "        \n",
              "            </div>\n",
              "        "
            ]
          },
          "metadata": {},
          "execution_count": 2
        }
      ],
      "source": [
        "import os\n",
        "os.environ[\"JAVA_HOME\"] = \"/usr/lib/jvm/java-8-openjdk-amd64\"\n",
        "os.environ[\"SPARK_HOME\"] = \"/content/spark-2.3.1-bin-hadoop2.7\"\n",
        "\n",
        "import findspark\n",
        "findspark.init()\n",
        "from pyspark import SparkContext\n",
        "sc = SparkContext.getOrCreate()\n",
        "\n",
        "import pyspark\n",
        "from pyspark.sql import SparkSession\n",
        "spark = SparkSession.builder.getOrCreate() \n",
        "spark"
      ]
    },
    {
      "cell_type": "code",
      "source": [
        "data = [('James','','Smith','1991-04-01','M',3000),\n",
        "  ('Michael','Rose','','2000-05-19','M',4000),\n",
        "  ('Robert','','Williams','1978-09-05','M',4000),\n",
        "  ('Maria','Anne','Jones','1967-12-01','F',4000),\n",
        "  ('Jen','Mary','Brown','1980-02-17','F',-1)\n",
        "]\n",
        "data"
      ],
      "metadata": {
        "colab": {
          "base_uri": "https://localhost:8080/"
        },
        "id": "0ViI15ggpsox",
        "outputId": "0f3a7f00-2263-4856-f773-806f9e3d8c2f"
      },
      "execution_count": 3,
      "outputs": [
        {
          "output_type": "execute_result",
          "data": {
            "text/plain": [
              "[('James', '', 'Smith', '1991-04-01', 'M', 3000),\n",
              " ('Michael', 'Rose', '', '2000-05-19', 'M', 4000),\n",
              " ('Robert', '', 'Williams', '1978-09-05', 'M', 4000),\n",
              " ('Maria', 'Anne', 'Jones', '1967-12-01', 'F', 4000),\n",
              " ('Jen', 'Mary', 'Brown', '1980-02-17', 'F', -1)]"
            ]
          },
          "metadata": {},
          "execution_count": 3
        }
      ]
    },
    {
      "cell_type": "code",
      "source": [
        "columns = [\"firstname\",\"middlename\",\"lastname\",\"dob\",\"gender\",\"salary\"]\n",
        "df = spark.createDataFrame(data=data, schema = columns)"
      ],
      "metadata": {
        "id": "ikwbw8LPp68z"
      },
      "execution_count": 4,
      "outputs": []
    },
    {
      "cell_type": "code",
      "source": [
        "df.show()"
      ],
      "metadata": {
        "colab": {
          "base_uri": "https://localhost:8080/"
        },
        "id": "sXreDhHQrhgy",
        "outputId": "39d87868-078b-4316-dcb9-5adcdb7f215d"
      },
      "execution_count": 5,
      "outputs": [
        {
          "output_type": "stream",
          "name": "stdout",
          "text": [
            "+---------+----------+--------+----------+------+------+\n",
            "|firstname|middlename|lastname|       dob|gender|salary|\n",
            "+---------+----------+--------+----------+------+------+\n",
            "|    James|          |   Smith|1991-04-01|     M|  3000|\n",
            "|  Michael|      Rose|        |2000-05-19|     M|  4000|\n",
            "|   Robert|          |Williams|1978-09-05|     M|  4000|\n",
            "|    Maria|      Anne|   Jones|1967-12-01|     F|  4000|\n",
            "|      Jen|      Mary|   Brown|1980-02-17|     F|    -1|\n",
            "+---------+----------+--------+----------+------+------+\n",
            "\n"
          ]
        }
      ]
    },
    {
      "cell_type": "code",
      "source": [
        "df.printSchema()"
      ],
      "metadata": {
        "colab": {
          "base_uri": "https://localhost:8080/"
        },
        "id": "YtBd-NYCrkum",
        "outputId": "e5fc479d-a864-4765-c88a-0aa05a1c50a7"
      },
      "execution_count": 6,
      "outputs": [
        {
          "output_type": "stream",
          "name": "stdout",
          "text": [
            "root\n",
            " |-- firstname: string (nullable = true)\n",
            " |-- middlename: string (nullable = true)\n",
            " |-- lastname: string (nullable = true)\n",
            " |-- dob: string (nullable = true)\n",
            " |-- gender: string (nullable = true)\n",
            " |-- salary: long (nullable = true)\n",
            "\n"
          ]
        }
      ]
    },
    {
      "cell_type": "code",
      "source": [
        "df.createOrReplaceTempView('MyTable')\n"
      ],
      "metadata": {
        "id": "mVVZhQO-rwsO"
      },
      "execution_count": 12,
      "outputs": []
    },
    {
      "cell_type": "code",
      "source": [
        "d=spark.sql('select * from MyTable')\n",
        "d.show()"
      ],
      "metadata": {
        "colab": {
          "base_uri": "https://localhost:8080/"
        },
        "id": "Zt6Sczck94rL",
        "outputId": "3dc4000f-ec7a-4672-acc7-f66241ebf720"
      },
      "execution_count": 13,
      "outputs": [
        {
          "output_type": "stream",
          "name": "stdout",
          "text": [
            "+---------+----------+--------+----------+------+------+\n",
            "|firstname|middlename|lastname|       dob|gender|salary|\n",
            "+---------+----------+--------+----------+------+------+\n",
            "|    James|          |   Smith|1991-04-01|     M|  3000|\n",
            "|  Michael|      Rose|        |2000-05-19|     M|  4000|\n",
            "|   Robert|          |Williams|1978-09-05|     M|  4000|\n",
            "|    Maria|      Anne|   Jones|1967-12-01|     F|  4000|\n",
            "|      Jen|      Mary|   Brown|1980-02-17|     F|    -1|\n",
            "+---------+----------+--------+----------+------+------+\n",
            "\n"
          ]
        }
      ]
    },
    {
      "cell_type": "code",
      "source": [
        "d.select(\"firstname\",\"gender\").show()"
      ],
      "metadata": {
        "colab": {
          "base_uri": "https://localhost:8080/"
        },
        "id": "_uyHufpb99YI",
        "outputId": "90e403d5-2811-470f-cbde-c8d769d448aa"
      },
      "execution_count": 14,
      "outputs": [
        {
          "output_type": "stream",
          "name": "stdout",
          "text": [
            "+---------+------+\n",
            "|firstname|gender|\n",
            "+---------+------+\n",
            "|    James|     M|\n",
            "|  Michael|     M|\n",
            "|   Robert|     M|\n",
            "|    Maria|     F|\n",
            "|      Jen|     F|\n",
            "+---------+------+\n",
            "\n"
          ]
        }
      ]
    },
    {
      "cell_type": "code",
      "source": [
        "d=spark.sql('select * from MyTable')\n",
        "d.show()"
      ],
      "metadata": {
        "colab": {
          "base_uri": "https://localhost:8080/"
        },
        "id": "0XRPaNbm-1lw",
        "outputId": "a8430d40-81e6-46bd-e47e-4fcbba4d7509"
      },
      "execution_count": 15,
      "outputs": [
        {
          "output_type": "stream",
          "name": "stdout",
          "text": [
            "+---------+----------+--------+----------+------+------+\n",
            "|firstname|middlename|lastname|       dob|gender|salary|\n",
            "+---------+----------+--------+----------+------+------+\n",
            "|    James|          |   Smith|1991-04-01|     M|  3000|\n",
            "|  Michael|      Rose|        |2000-05-19|     M|  4000|\n",
            "|   Robert|          |Williams|1978-09-05|     M|  4000|\n",
            "|    Maria|      Anne|   Jones|1967-12-01|     F|  4000|\n",
            "|      Jen|      Mary|   Brown|1980-02-17|     F|    -1|\n",
            "+---------+----------+--------+----------+------+------+\n",
            "\n"
          ]
        }
      ]
    },
    {
      "cell_type": "code",
      "source": [
        "from pyspark.sql import functions as F\n",
        "from pyspark.sql.functions import lit\n",
        "d=d.withColumn('dep',lit('ACC'))"
      ],
      "metadata": {
        "id": "tUgLVWGM_ea0"
      },
      "execution_count": 16,
      "outputs": []
    },
    {
      "cell_type": "code",
      "source": [
        "d.show()"
      ],
      "metadata": {
        "colab": {
          "base_uri": "https://localhost:8080/"
        },
        "id": "zx1nxLrncXh8",
        "outputId": "af1c5a94-246c-4c8e-e106-4e7fa597b397"
      },
      "execution_count": 17,
      "outputs": [
        {
          "output_type": "stream",
          "name": "stdout",
          "text": [
            "+---------+----------+--------+----------+------+------+---+\n",
            "|firstname|middlename|lastname|       dob|gender|salary|dep|\n",
            "+---------+----------+--------+----------+------+------+---+\n",
            "|    James|          |   Smith|1991-04-01|     M|  3000|ACC|\n",
            "|  Michael|      Rose|        |2000-05-19|     M|  4000|ACC|\n",
            "|   Robert|          |Williams|1978-09-05|     M|  4000|ACC|\n",
            "|    Maria|      Anne|   Jones|1967-12-01|     F|  4000|ACC|\n",
            "|      Jen|      Mary|   Brown|1980-02-17|     F|    -1|ACC|\n",
            "+---------+----------+--------+----------+------+------+---+\n",
            "\n"
          ]
        }
      ]
    },
    {
      "cell_type": "code",
      "source": [
        "d=d.withColumn('dep',F.when(F.col('gender')=='M',F.lit('IT')).otherwise(F.lit('ACC')))\n",
        "d.show()"
      ],
      "metadata": {
        "colab": {
          "base_uri": "https://localhost:8080/"
        },
        "id": "I3wJpSSzh66j",
        "outputId": "12e34f6f-1513-4681-caa4-14de07deca7f"
      },
      "execution_count": 18,
      "outputs": [
        {
          "output_type": "stream",
          "name": "stdout",
          "text": [
            "+---------+----------+--------+----------+------+------+---+\n",
            "|firstname|middlename|lastname|       dob|gender|salary|dep|\n",
            "+---------+----------+--------+----------+------+------+---+\n",
            "|    James|          |   Smith|1991-04-01|     M|  3000| IT|\n",
            "|  Michael|      Rose|        |2000-05-19|     M|  4000| IT|\n",
            "|   Robert|          |Williams|1978-09-05|     M|  4000| IT|\n",
            "|    Maria|      Anne|   Jones|1967-12-01|     F|  4000|ACC|\n",
            "|      Jen|      Mary|   Brown|1980-02-17|     F|    -1|ACC|\n",
            "+---------+----------+--------+----------+------+------+---+\n",
            "\n"
          ]
        }
      ]
    },
    {
      "cell_type": "code",
      "source": [
        "d=d.withColumn('dep',F.when(F.col('lastname')=='Smith',F.lit('MNG')).otherwise(F.col('dep')))\n",
        "d.show()"
      ],
      "metadata": {
        "colab": {
          "base_uri": "https://localhost:8080/"
        },
        "id": "_zcG2jEejF9N",
        "outputId": "a811b14a-41a3-46aa-e867-9ba6eab5c51e"
      },
      "execution_count": 19,
      "outputs": [
        {
          "output_type": "stream",
          "name": "stdout",
          "text": [
            "+---------+----------+--------+----------+------+------+---+\n",
            "|firstname|middlename|lastname|       dob|gender|salary|dep|\n",
            "+---------+----------+--------+----------+------+------+---+\n",
            "|    James|          |   Smith|1991-04-01|     M|  3000|MNG|\n",
            "|  Michael|      Rose|        |2000-05-19|     M|  4000| IT|\n",
            "|   Robert|          |Williams|1978-09-05|     M|  4000| IT|\n",
            "|    Maria|      Anne|   Jones|1967-12-01|     F|  4000|ACC|\n",
            "|      Jen|      Mary|   Brown|1980-02-17|     F|    -1|ACC|\n",
            "+---------+----------+--------+----------+------+------+---+\n",
            "\n"
          ]
        }
      ]
    },
    {
      "cell_type": "code",
      "source": [
        "params=['ACC','IT']"
      ],
      "metadata": {
        "id": "H3VbMltCjuZx"
      },
      "execution_count": 20,
      "outputs": []
    },
    {
      "cell_type": "code",
      "source": [
        "F.col('dep').rlike('|'.join(params))"
      ],
      "metadata": {
        "colab": {
          "base_uri": "https://localhost:8080/"
        },
        "id": "QsB2RKv9kcTq",
        "outputId": "05c41565-e3f3-4a81-96d8-6f712be2ff7f"
      },
      "execution_count": 21,
      "outputs": [
        {
          "output_type": "execute_result",
          "data": {
            "text/plain": [
              "Column<b'dep RLIKE ACC|IT'>"
            ]
          },
          "metadata": {},
          "execution_count": 21
        }
      ]
    },
    {
      "cell_type": "code",
      "source": [
        "dn=d.withColumn('rating',F.when(F.col('dep').rlike('|'.join(params)),\\\n",
        "                                F.lit('High Salary')).otherwise(F.lit('Low Salary')))\n",
        "dn.show()"
      ],
      "metadata": {
        "colab": {
          "base_uri": "https://localhost:8080/"
        },
        "id": "MFZtx8l8jKc4",
        "outputId": "b1747a29-a93e-4c9e-a8fd-87818125fdc6"
      },
      "execution_count": 22,
      "outputs": [
        {
          "output_type": "stream",
          "name": "stdout",
          "text": [
            "+---------+----------+--------+----------+------+------+---+-----------+\n",
            "|firstname|middlename|lastname|       dob|gender|salary|dep|     rating|\n",
            "+---------+----------+--------+----------+------+------+---+-----------+\n",
            "|    James|          |   Smith|1991-04-01|     M|  3000|MNG| Low Salary|\n",
            "|  Michael|      Rose|        |2000-05-19|     M|  4000| IT|High Salary|\n",
            "|   Robert|          |Williams|1978-09-05|     M|  4000| IT|High Salary|\n",
            "|    Maria|      Anne|   Jones|1967-12-01|     F|  4000|ACC|High Salary|\n",
            "|      Jen|      Mary|   Brown|1980-02-17|     F|    -1|ACC|High Salary|\n",
            "+---------+----------+--------+----------+------+------+---+-----------+\n",
            "\n"
          ]
        }
      ]
    },
    {
      "cell_type": "code",
      "source": [
        "dnn=dn.withColumn('rating',\\\n",
        "                F.when(F.col('dep')=='MNG',F.lit('Fake Low Salary'))\\\n",
        "                .when((F.col('salary')==-1) & (F.col('dep')!='MNG') , F.lit('UNDEFINED'))\\\n",
        "                .when(F.col('lastname') =='Jones' , F.lit('Extemely High Salary'))\\\n",
        "                .otherwise(F.col('rating'))\n",
        ")\n",
        "dnn.show() "
      ],
      "metadata": {
        "colab": {
          "base_uri": "https://localhost:8080/"
        },
        "id": "GBzXScx6kRDG",
        "outputId": "6eae213e-b1e9-4f67-f37a-186efc866db5"
      },
      "execution_count": 24,
      "outputs": [
        {
          "output_type": "stream",
          "name": "stdout",
          "text": [
            "+---------+----------+--------+----------+------+------+---+--------------------+\n",
            "|firstname|middlename|lastname|       dob|gender|salary|dep|              rating|\n",
            "+---------+----------+--------+----------+------+------+---+--------------------+\n",
            "|    James|          |   Smith|1991-04-01|     M|  3000|MNG|     Fake Low Salary|\n",
            "|  Michael|      Rose|        |2000-05-19|     M|  4000| IT|         High Salary|\n",
            "|   Robert|          |Williams|1978-09-05|     M|  4000| IT|         High Salary|\n",
            "|    Maria|      Anne|   Jones|1967-12-01|     F|  4000|ACC|Extemely High Salary|\n",
            "|      Jen|      Mary|   Brown|1980-02-17|     F|    -1|ACC|           UNDEFINED|\n",
            "+---------+----------+--------+----------+------+------+---+--------------------+\n",
            "\n"
          ]
        }
      ]
    },
    {
      "cell_type": "code",
      "source": [
        "e=dnn.filter(F.col('rating')!='High Salary').collect()\n",
        "for i,row in enumerate(e):\n",
        "  print(row['firstname'])"
      ],
      "metadata": {
        "colab": {
          "base_uri": "https://localhost:8080/"
        },
        "id": "RlYW8NwHpFC4",
        "outputId": "12a15bc8-9d4a-41ca-8c44-74ffe4e361a8"
      },
      "execution_count": 25,
      "outputs": [
        {
          "output_type": "stream",
          "name": "stdout",
          "text": [
            "James\n",
            "Maria\n",
            "Jen\n"
          ]
        }
      ]
    },
    {
      "cell_type": "code",
      "source": [
        "nanValue=dnn.na.drop(how='any')\n",
        "nanValue.show()"
      ],
      "metadata": {
        "colab": {
          "base_uri": "https://localhost:8080/"
        },
        "id": "Pau2obIzqJMN",
        "outputId": "a570700a-2e0c-4ae8-b75b-c2a25378f61d"
      },
      "execution_count": 26,
      "outputs": [
        {
          "output_type": "stream",
          "name": "stdout",
          "text": [
            "+---------+----------+--------+----------+------+------+---+--------------------+\n",
            "|firstname|middlename|lastname|       dob|gender|salary|dep|              rating|\n",
            "+---------+----------+--------+----------+------+------+---+--------------------+\n",
            "|    James|          |   Smith|1991-04-01|     M|  3000|MNG|     Fake Low Salary|\n",
            "|  Michael|      Rose|        |2000-05-19|     M|  4000| IT|         High Salary|\n",
            "|   Robert|          |Williams|1978-09-05|     M|  4000| IT|         High Salary|\n",
            "|    Maria|      Anne|   Jones|1967-12-01|     F|  4000|ACC|Extemely High Salary|\n",
            "|      Jen|      Mary|   Brown|1980-02-17|     F|    -1|ACC|           UNDEFINED|\n",
            "+---------+----------+--------+----------+------+------+---+--------------------+\n",
            "\n"
          ]
        }
      ]
    },
    {
      "cell_type": "code",
      "source": [
        "dnn.groupBy(['dep','rating']).agg('sum','salary').show()"
      ],
      "metadata": {
        "colab": {
          "base_uri": "https://localhost:8080/",
          "height": 295
        },
        "id": "lojbPyink3qC",
        "outputId": "1dabf9b3-f6cb-4cc3-a5aa-e36b599b9c53"
      },
      "execution_count": 28,
      "outputs": [
        {
          "output_type": "error",
          "ename": "AssertionError",
          "evalue": "ignored",
          "traceback": [
            "\u001b[0;31m---------------------------------------------------------------------------\u001b[0m",
            "\u001b[0;31mAssertionError\u001b[0m                            Traceback (most recent call last)",
            "\u001b[0;32m<ipython-input-28-2ad122637466>\u001b[0m in \u001b[0;36m<module>\u001b[0;34m\u001b[0m\n\u001b[0;32m----> 1\u001b[0;31m \u001b[0mdnn\u001b[0m\u001b[0;34m.\u001b[0m\u001b[0mgroupBy\u001b[0m\u001b[0;34m(\u001b[0m\u001b[0;34m[\u001b[0m\u001b[0;34m'dep'\u001b[0m\u001b[0;34m,\u001b[0m\u001b[0;34m'rating'\u001b[0m\u001b[0;34m]\u001b[0m\u001b[0;34m)\u001b[0m\u001b[0;34m.\u001b[0m\u001b[0magg\u001b[0m\u001b[0;34m(\u001b[0m\u001b[0;34m'sum'\u001b[0m\u001b[0;34m,\u001b[0m\u001b[0;34m'salary'\u001b[0m\u001b[0;34m)\u001b[0m\u001b[0;34m.\u001b[0m\u001b[0mshow\u001b[0m\u001b[0;34m(\u001b[0m\u001b[0;34m)\u001b[0m\u001b[0;34m\u001b[0m\u001b[0;34m\u001b[0m\u001b[0m\n\u001b[0m",
            "\u001b[0;32m/content/spark-2.3.1-bin-hadoop2.7/python/pyspark/sql/group.py\u001b[0m in \u001b[0;36magg\u001b[0;34m(self, *exprs)\u001b[0m\n\u001b[1;32m     89\u001b[0m         \u001b[0;32melse\u001b[0m\u001b[0;34m:\u001b[0m\u001b[0;34m\u001b[0m\u001b[0;34m\u001b[0m\u001b[0m\n\u001b[1;32m     90\u001b[0m             \u001b[0;31m# Columns\u001b[0m\u001b[0;34m\u001b[0m\u001b[0;34m\u001b[0m\u001b[0;34m\u001b[0m\u001b[0m\n\u001b[0;32m---> 91\u001b[0;31m             \u001b[0;32massert\u001b[0m \u001b[0mall\u001b[0m\u001b[0;34m(\u001b[0m\u001b[0misinstance\u001b[0m\u001b[0;34m(\u001b[0m\u001b[0mc\u001b[0m\u001b[0;34m,\u001b[0m \u001b[0mColumn\u001b[0m\u001b[0;34m)\u001b[0m \u001b[0;32mfor\u001b[0m \u001b[0mc\u001b[0m \u001b[0;32min\u001b[0m \u001b[0mexprs\u001b[0m\u001b[0;34m)\u001b[0m\u001b[0;34m,\u001b[0m \u001b[0;34m\"all exprs should be Column\"\u001b[0m\u001b[0;34m\u001b[0m\u001b[0;34m\u001b[0m\u001b[0m\n\u001b[0m\u001b[1;32m     92\u001b[0m             jdf = self._jgd.agg(exprs[0]._jc,\n\u001b[1;32m     93\u001b[0m                                 _to_seq(self.sql_ctx._sc, [c._jc for c in exprs[1:]]))\n",
            "\u001b[0;31mAssertionError\u001b[0m: all exprs should be Column"
          ]
        }
      ]
    },
    {
      "cell_type": "code",
      "source": [
        "pip install koalas"
      ],
      "metadata": {
        "colab": {
          "base_uri": "https://localhost:8080/"
        },
        "id": "58FFjOSLunMN",
        "outputId": "e97b0924-04fe-42c0-96c8-156bfcfbd870"
      },
      "execution_count": 95,
      "outputs": [
        {
          "output_type": "stream",
          "name": "stdout",
          "text": [
            "Looking in indexes: https://pypi.org/simple, https://us-python.pkg.dev/colab-wheels/public/simple/\n",
            "Collecting koalas\n",
            "  Downloading koalas-1.8.2-py3-none-any.whl (390 kB)\n",
            "\u001b[K     |████████████████████████████████| 390 kB 5.0 MB/s \n",
            "\u001b[?25hRequirement already satisfied: numpy>=1.14 in /usr/local/lib/python3.7/dist-packages (from koalas) (1.21.6)\n",
            "Requirement already satisfied: pyarrow>=0.10 in /usr/local/lib/python3.7/dist-packages (from koalas) (6.0.1)\n",
            "Requirement already satisfied: pandas>=0.23.2 in /usr/local/lib/python3.7/dist-packages (from koalas) (1.3.5)\n",
            "Requirement already satisfied: python-dateutil>=2.7.3 in /usr/local/lib/python3.7/dist-packages (from pandas>=0.23.2->koalas) (2.8.2)\n",
            "Requirement already satisfied: pytz>=2017.3 in /usr/local/lib/python3.7/dist-packages (from pandas>=0.23.2->koalas) (2022.4)\n",
            "Requirement already satisfied: six>=1.5 in /usr/local/lib/python3.7/dist-packages (from python-dateutil>=2.7.3->pandas>=0.23.2->koalas) (1.15.0)\n",
            "Installing collected packages: koalas\n",
            "Successfully installed koalas-1.8.2\n"
          ]
        }
      ]
    },
    {
      "cell_type": "code",
      "source": [
        "import databricks.koalas as ks"
      ],
      "metadata": {
        "colab": {
          "base_uri": "https://localhost:8080/"
        },
        "id": "SSgrMwqTuzOr",
        "outputId": "78a00c62-a9c1-4fa3-eedd-af175a671973"
      },
      "execution_count": 96,
      "outputs": [
        {
          "output_type": "stream",
          "name": "stderr",
          "text": [
            "WARNING:root:Found pyspark version \"2.3.1\" installed. pyspark>=2.4.0 is recommended.\n",
            "WARNING:root:Found numpy version \"1.21.6\" installed with pyspark version \"2.3.1\". Some functions will not work well with this combination of numpy version \"1.21.6\" and pyspark version \"2.3.1\". Please try to upgrade pyspark version to 3.1 or above, or downgrade numpy version to below 1.20.\n",
            "WARNING:root:'ARROW_PRE_0_15_IPC_FORMAT' environment variable was not set. It is required to set this environment variable to '1' in both driver and executor sides if you use pyarrow>=0.15 and pyspark<3.0. Koalas will set it for you but it does not work if there is a Spark context already launched.\n",
            "WARNING:root:'PYARROW_IGNORE_TIMEZONE' environment variable was not set. It is required to set this environment variable to '1' in both driver and executor sides if you use pyarrow>=2.0.0. Koalas will set it for you but it does not work if there is a Spark context already launched.\n"
          ]
        }
      ]
    },
    {
      "cell_type": "code",
      "source": [
        "#kdf = ks.from_pandas(dnn)\n",
        "dnn.show()"
      ],
      "metadata": {
        "colab": {
          "base_uri": "https://localhost:8080/"
        },
        "id": "wg_n6p-7vQKj",
        "outputId": "6b65381a-cf37-4fae-ba44-76a4b0878f66"
      },
      "execution_count": 29,
      "outputs": [
        {
          "output_type": "stream",
          "name": "stdout",
          "text": [
            "+---------+----------+--------+----------+------+------+---+--------------------+\n",
            "|firstname|middlename|lastname|       dob|gender|salary|dep|              rating|\n",
            "+---------+----------+--------+----------+------+------+---+--------------------+\n",
            "|    James|          |   Smith|1991-04-01|     M|  3000|MNG|     Fake Low Salary|\n",
            "|  Michael|      Rose|        |2000-05-19|     M|  4000| IT|         High Salary|\n",
            "|   Robert|          |Williams|1978-09-05|     M|  4000| IT|         High Salary|\n",
            "|    Maria|      Anne|   Jones|1967-12-01|     F|  4000|ACC|Extemely High Salary|\n",
            "|      Jen|      Mary|   Brown|1980-02-17|     F|    -1|ACC|           UNDEFINED|\n",
            "+---------+----------+--------+----------+------+------+---+--------------------+\n",
            "\n"
          ]
        }
      ]
    },
    {
      "cell_type": "code",
      "source": [
        "def cast_all_to_float(df):\n",
        "  return df.select([F.col(colName).cast(\"int\") for colName in df.columns if colName=='salary'])\n",
        "\n",
        "def sort_columns_asc(input_df):\n",
        "    return input_df.select(*sorted(input_df.columns))\n",
        "\n",
        "#dTT=spark.createDataFrame(dnn)\n",
        "dnd=dnn.toDF(*['firstname','middlename','lastname','dob','gender','salary','dep','rating'])\n",
        "dnd.show()\n",
        "dnd.transform(sort_columns_asc).show()\n"
      ],
      "metadata": {
        "colab": {
          "base_uri": "https://localhost:8080/",
          "height": 509
        },
        "id": "xEDCTyLUogHp",
        "outputId": "23b28ae4-626a-44ce-c95c-4d3e8d763fd9"
      },
      "execution_count": 30,
      "outputs": [
        {
          "output_type": "stream",
          "name": "stdout",
          "text": [
            "+---------+----------+--------+----------+------+------+---+--------------------+\n",
            "|firstname|middlename|lastname|       dob|gender|salary|dep|              rating|\n",
            "+---------+----------+--------+----------+------+------+---+--------------------+\n",
            "|    James|          |   Smith|1991-04-01|     M|  3000|MNG|     Fake Low Salary|\n",
            "|  Michael|      Rose|        |2000-05-19|     M|  4000| IT|         High Salary|\n",
            "|   Robert|          |Williams|1978-09-05|     M|  4000| IT|         High Salary|\n",
            "|    Maria|      Anne|   Jones|1967-12-01|     F|  4000|ACC|Extemely High Salary|\n",
            "|      Jen|      Mary|   Brown|1980-02-17|     F|    -1|ACC|           UNDEFINED|\n",
            "+---------+----------+--------+----------+------+------+---+--------------------+\n",
            "\n"
          ]
        },
        {
          "output_type": "error",
          "ename": "AttributeError",
          "evalue": "ignored",
          "traceback": [
            "\u001b[0;31m---------------------------------------------------------------------------\u001b[0m",
            "\u001b[0;31mAttributeError\u001b[0m                            Traceback (most recent call last)",
            "\u001b[0;32m<ipython-input-30-3f0ccc07b816>\u001b[0m in \u001b[0;36m<module>\u001b[0;34m\u001b[0m\n\u001b[1;32m      8\u001b[0m \u001b[0mdnd\u001b[0m\u001b[0;34m=\u001b[0m\u001b[0mdnn\u001b[0m\u001b[0;34m.\u001b[0m\u001b[0mtoDF\u001b[0m\u001b[0;34m(\u001b[0m\u001b[0;34m*\u001b[0m\u001b[0;34m[\u001b[0m\u001b[0;34m'firstname'\u001b[0m\u001b[0;34m,\u001b[0m\u001b[0;34m'middlename'\u001b[0m\u001b[0;34m,\u001b[0m\u001b[0;34m'lastname'\u001b[0m\u001b[0;34m,\u001b[0m\u001b[0;34m'dob'\u001b[0m\u001b[0;34m,\u001b[0m\u001b[0;34m'gender'\u001b[0m\u001b[0;34m,\u001b[0m\u001b[0;34m'salary'\u001b[0m\u001b[0;34m,\u001b[0m\u001b[0;34m'dep'\u001b[0m\u001b[0;34m,\u001b[0m\u001b[0;34m'rating'\u001b[0m\u001b[0;34m]\u001b[0m\u001b[0;34m)\u001b[0m\u001b[0;34m\u001b[0m\u001b[0;34m\u001b[0m\u001b[0m\n\u001b[1;32m      9\u001b[0m \u001b[0mdnd\u001b[0m\u001b[0;34m.\u001b[0m\u001b[0mshow\u001b[0m\u001b[0;34m(\u001b[0m\u001b[0;34m)\u001b[0m\u001b[0;34m\u001b[0m\u001b[0;34m\u001b[0m\u001b[0m\n\u001b[0;32m---> 10\u001b[0;31m \u001b[0mdnd\u001b[0m\u001b[0;34m.\u001b[0m\u001b[0mtransform\u001b[0m\u001b[0;34m(\u001b[0m\u001b[0msort_columns_asc\u001b[0m\u001b[0;34m)\u001b[0m\u001b[0;34m.\u001b[0m\u001b[0mshow\u001b[0m\u001b[0;34m(\u001b[0m\u001b[0;34m)\u001b[0m\u001b[0;34m\u001b[0m\u001b[0;34m\u001b[0m\u001b[0m\n\u001b[0m",
            "\u001b[0;32m/content/spark-2.3.1-bin-hadoop2.7/python/pyspark/sql/dataframe.py\u001b[0m in \u001b[0;36m__getattr__\u001b[0;34m(self, name)\u001b[0m\n\u001b[1;32m   1180\u001b[0m         \u001b[0;32mif\u001b[0m \u001b[0mname\u001b[0m \u001b[0;32mnot\u001b[0m \u001b[0;32min\u001b[0m \u001b[0mself\u001b[0m\u001b[0;34m.\u001b[0m\u001b[0mcolumns\u001b[0m\u001b[0;34m:\u001b[0m\u001b[0;34m\u001b[0m\u001b[0;34m\u001b[0m\u001b[0m\n\u001b[1;32m   1181\u001b[0m             raise AttributeError(\n\u001b[0;32m-> 1182\u001b[0;31m                 \"'%s' object has no attribute '%s'\" % (self.__class__.__name__, name))\n\u001b[0m\u001b[1;32m   1183\u001b[0m         \u001b[0mjc\u001b[0m \u001b[0;34m=\u001b[0m \u001b[0mself\u001b[0m\u001b[0;34m.\u001b[0m\u001b[0m_jdf\u001b[0m\u001b[0;34m.\u001b[0m\u001b[0mapply\u001b[0m\u001b[0;34m(\u001b[0m\u001b[0mname\u001b[0m\u001b[0;34m)\u001b[0m\u001b[0;34m\u001b[0m\u001b[0;34m\u001b[0m\u001b[0m\n\u001b[1;32m   1184\u001b[0m         \u001b[0;32mreturn\u001b[0m \u001b[0mColumn\u001b[0m\u001b[0;34m(\u001b[0m\u001b[0mjc\u001b[0m\u001b[0;34m)\u001b[0m\u001b[0;34m\u001b[0m\u001b[0;34m\u001b[0m\u001b[0m\n",
            "\u001b[0;31mAttributeError\u001b[0m: 'DataFrame' object has no attribute 'transform'"
          ]
        }
      ]
    },
    {
      "cell_type": "code",
      "source": [
        "v=dnn.select('firstname','lastname','salary').rdd.map(lambda x: ('{} {}'.format(x[0],x[1]),x[2]*2) )\n",
        "v\n",
        "vv=v.toDF(['name','salary'])\n",
        "vv.show()\n",
        "vv.transform()"
      ],
      "metadata": {
        "colab": {
          "base_uri": "https://localhost:8080/",
          "height": 509
        },
        "id": "miKSVu8MzL22",
        "outputId": "2e956909-7786-4db0-85a4-6c6299778832"
      },
      "execution_count": 31,
      "outputs": [
        {
          "output_type": "stream",
          "name": "stdout",
          "text": [
            "+---------------+------+\n",
            "|           name|salary|\n",
            "+---------------+------+\n",
            "|    James Smith|  6000|\n",
            "|       Michael |  8000|\n",
            "|Robert Williams|  8000|\n",
            "|    Maria Jones|  8000|\n",
            "|      Jen Brown|    -2|\n",
            "+---------------+------+\n",
            "\n"
          ]
        },
        {
          "output_type": "error",
          "ename": "AttributeError",
          "evalue": "ignored",
          "traceback": [
            "\u001b[0;31m---------------------------------------------------------------------------\u001b[0m",
            "\u001b[0;31mAttributeError\u001b[0m                            Traceback (most recent call last)",
            "\u001b[0;32m<ipython-input-31-db1764781298>\u001b[0m in \u001b[0;36m<module>\u001b[0;34m\u001b[0m\n\u001b[1;32m      3\u001b[0m \u001b[0mvv\u001b[0m\u001b[0;34m=\u001b[0m\u001b[0mv\u001b[0m\u001b[0;34m.\u001b[0m\u001b[0mtoDF\u001b[0m\u001b[0;34m(\u001b[0m\u001b[0;34m[\u001b[0m\u001b[0;34m'name'\u001b[0m\u001b[0;34m,\u001b[0m\u001b[0;34m'salary'\u001b[0m\u001b[0;34m]\u001b[0m\u001b[0;34m)\u001b[0m\u001b[0;34m\u001b[0m\u001b[0;34m\u001b[0m\u001b[0m\n\u001b[1;32m      4\u001b[0m \u001b[0mvv\u001b[0m\u001b[0;34m.\u001b[0m\u001b[0mshow\u001b[0m\u001b[0;34m(\u001b[0m\u001b[0;34m)\u001b[0m\u001b[0;34m\u001b[0m\u001b[0;34m\u001b[0m\u001b[0m\n\u001b[0;32m----> 5\u001b[0;31m \u001b[0mvv\u001b[0m\u001b[0;34m.\u001b[0m\u001b[0mtransform\u001b[0m\u001b[0;34m(\u001b[0m\u001b[0;34m)\u001b[0m\u001b[0;34m\u001b[0m\u001b[0;34m\u001b[0m\u001b[0m\n\u001b[0m",
            "\u001b[0;32m/content/spark-2.3.1-bin-hadoop2.7/python/pyspark/sql/dataframe.py\u001b[0m in \u001b[0;36m__getattr__\u001b[0;34m(self, name)\u001b[0m\n\u001b[1;32m   1180\u001b[0m         \u001b[0;32mif\u001b[0m \u001b[0mname\u001b[0m \u001b[0;32mnot\u001b[0m \u001b[0;32min\u001b[0m \u001b[0mself\u001b[0m\u001b[0;34m.\u001b[0m\u001b[0mcolumns\u001b[0m\u001b[0;34m:\u001b[0m\u001b[0;34m\u001b[0m\u001b[0;34m\u001b[0m\u001b[0m\n\u001b[1;32m   1181\u001b[0m             raise AttributeError(\n\u001b[0;32m-> 1182\u001b[0;31m                 \"'%s' object has no attribute '%s'\" % (self.__class__.__name__, name))\n\u001b[0m\u001b[1;32m   1183\u001b[0m         \u001b[0mjc\u001b[0m \u001b[0;34m=\u001b[0m \u001b[0mself\u001b[0m\u001b[0;34m.\u001b[0m\u001b[0m_jdf\u001b[0m\u001b[0;34m.\u001b[0m\u001b[0mapply\u001b[0m\u001b[0;34m(\u001b[0m\u001b[0mname\u001b[0m\u001b[0;34m)\u001b[0m\u001b[0;34m\u001b[0m\u001b[0;34m\u001b[0m\u001b[0m\n\u001b[1;32m   1184\u001b[0m         \u001b[0;32mreturn\u001b[0m \u001b[0mColumn\u001b[0m\u001b[0;34m(\u001b[0m\u001b[0mjc\u001b[0m\u001b[0;34m)\u001b[0m\u001b[0;34m\u001b[0m\u001b[0;34m\u001b[0m\u001b[0m\n",
            "\u001b[0;31mAttributeError\u001b[0m: 'DataFrame' object has no attribute 'transform'"
          ]
        }
      ]
    },
    {
      "cell_type": "code",
      "source": [
        "\n",
        "\n",
        "for vv in v:\n",
        "  print(vv)"
      ],
      "metadata": {
        "colab": {
          "base_uri": "https://localhost:8080/"
        },
        "id": "43UykLLTtCnX",
        "outputId": "a7001f54-52e2-41be-93b7-8f11ab692892"
      },
      "execution_count": 115,
      "outputs": [
        {
          "output_type": "stream",
          "name": "stdout",
          "text": [
            "(3000, 3000)\n",
            "(4000, 4000)\n",
            "(4000, 4000)\n",
            "(4000, 4000)\n",
            "(-1, -1)\n"
          ]
        }
      ]
    },
    {
      "cell_type": "code",
      "source": [
        "\n",
        "dnd.groupBy(\"dep\").agg(F.avg(\"salary\").alias(\"avg\"),F.sum(\"salary\").alias(\"sum\")).show()\n"
      ],
      "metadata": {
        "colab": {
          "base_uri": "https://localhost:8080/"
        },
        "id": "sBZLUr2hypDc",
        "outputId": "0df22506-7626-4490-8ef9-3464bb6202f8"
      },
      "execution_count": 64,
      "outputs": [
        {
          "output_type": "stream",
          "name": "stdout",
          "text": [
            "+---+------+----+\n",
            "|dep|   avg| sum|\n",
            "+---+------+----+\n",
            "|ACC|1999.5|3999|\n",
            "|MNG|3000.0|3000|\n",
            "| IT|4000.0|8000|\n",
            "+---+------+----+\n",
            "\n"
          ]
        }
      ]
    },
    {
      "cell_type": "code",
      "source": [
        "dnd.dropna().show()"
      ],
      "metadata": {
        "colab": {
          "base_uri": "https://localhost:8080/"
        },
        "id": "2KYMqdAwSsgb",
        "outputId": "a7590ab4-3e00-4790-ad49-12242f02edfc"
      },
      "execution_count": 65,
      "outputs": [
        {
          "output_type": "stream",
          "name": "stdout",
          "text": [
            "+---------+----------+--------+----------+------+------+---+--------------------+\n",
            "|firstname|middlename|lastname|       dob|gender|salary|dep|              rating|\n",
            "+---------+----------+--------+----------+------+------+---+--------------------+\n",
            "|    James|          |   Smith|1991-04-01|     M|  3000|MNG|     Fake Low Salary|\n",
            "|  Michael|      Rose|        |2000-05-19|     M|  4000| IT|         High Salary|\n",
            "|   Robert|          |Williams|1978-09-05|     M|  4000| IT|         High Salary|\n",
            "|    Maria|      Anne|   Jones|1967-12-01|     F|  4000|ACC|Extemely High Salary|\n",
            "|      Jen|      Mary|   Brown|1980-02-17|     F|    -1|ACC|           UNDEFINED|\n",
            "+---------+----------+--------+----------+------+------+---+--------------------+\n",
            "\n"
          ]
        }
      ]
    },
    {
      "cell_type": "code",
      "source": [],
      "metadata": {
        "id": "lzlWnDkFZt0F"
      },
      "execution_count": null,
      "outputs": []
    }
  ]
}